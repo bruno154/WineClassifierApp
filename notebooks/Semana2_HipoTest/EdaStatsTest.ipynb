{
 "cells": [
  {
   "cell_type": "code",
   "execution_count": 1,
   "metadata": {},
   "outputs": [],
   "source": [
    "import numpy as np\n",
    "import pandas as pd\n",
    "import matplotlib.pyplot as plt\n",
    "import seaborn as sns\n",
    "from scipy.stats import f_oneway\n",
    "from scipy.stats import ttest_ind\n",
    "from src.databases import Postgresql "
   ]
  },
  {
   "cell_type": "markdown",
   "metadata": {},
   "source": [
    "# Análise Exploratória"
   ]
  },
  {
   "cell_type": "code",
   "execution_count": 4,
   "metadata": {},
   "outputs": [
    {
     "name": "stdout",
     "output_type": "stream",
     "text": [
      "Buscando os dados!!!\n",
      "Conexão com Postgresql fechada\n"
     ]
    },
    {
     "data": {
      "text/html": [
       "<div>\n",
       "<style scoped>\n",
       "    .dataframe tbody tr th:only-of-type {\n",
       "        vertical-align: middle;\n",
       "    }\n",
       "\n",
       "    .dataframe tbody tr th {\n",
       "        vertical-align: top;\n",
       "    }\n",
       "\n",
       "    .dataframe thead th {\n",
       "        text-align: right;\n",
       "    }\n",
       "</style>\n",
       "<table border=\"1\" class=\"dataframe\">\n",
       "  <thead>\n",
       "    <tr style=\"text-align: right;\">\n",
       "      <th></th>\n",
       "      <th>sku</th>\n",
       "      <th>tipo</th>\n",
       "      <th>uva</th>\n",
       "      <th>country</th>\n",
       "      <th>region</th>\n",
       "      <th>vinicola</th>\n",
       "      <th>teor_alcoolico</th>\n",
       "      <th>amadurecimento</th>\n",
       "      <th>classificacao</th>\n",
       "      <th>safra</th>\n",
       "      <th>visual</th>\n",
       "      <th>ofativo</th>\n",
       "      <th>gustativo</th>\n",
       "      <th>temperatura</th>\n",
       "      <th>potencial_guarda</th>\n",
       "    </tr>\n",
       "  </thead>\n",
       "  <tbody>\n",
       "    <tr>\n",
       "      <th>0</th>\n",
       "      <td>11549</td>\n",
       "      <td>Branco</td>\n",
       "      <td>Furmint (100.00%)</td>\n",
       "      <td>Hungria</td>\n",
       "      <td>Tokaj</td>\n",
       "      <td>Pajzos</td>\n",
       "      <td>11.00% ABV</td>\n",
       "      <td>Sem passagem por carvalho.</td>\n",
       "      <td>Suave/Doce</td>\n",
       "      <td>2003</td>\n",
       "      <td>Amarelo dourado</td>\n",
       "      <td>Frutas brancas maduras, mel, figo seco, frutas...</td>\n",
       "      <td>Doce, equilibrado, acidez agradável, final longo</td>\n",
       "      <td>10 °C</td>\n",
       "      <td>20 anos</td>\n",
       "    </tr>\n",
       "    <tr>\n",
       "      <th>1</th>\n",
       "      <td>12390</td>\n",
       "      <td>Branco</td>\n",
       "      <td>Sauvignon Blanc</td>\n",
       "      <td>França</td>\n",
       "      <td>Languedoc-Roussillon</td>\n",
       "      <td>Baron Philippe de Rothschild</td>\n",
       "      <td>12.00% ABV</td>\n",
       "      <td>Em tanques de aço inox.</td>\n",
       "      <td>Seco</td>\n",
       "      <td>2018</td>\n",
       "      <td>Amarelo claro</td>\n",
       "      <td>Notas de frutas cítricas, lima, limão</td>\n",
       "      <td>Fresco, frutado e boa acidez</td>\n",
       "      <td>10 °C</td>\n",
       "      <td>3 anos</td>\n",
       "    </tr>\n",
       "    <tr>\n",
       "      <th>2</th>\n",
       "      <td>12733</td>\n",
       "      <td>Tinto</td>\n",
       "      <td>Tempranillo</td>\n",
       "      <td>Espanha</td>\n",
       "      <td>Ribera del Júcar</td>\n",
       "      <td>La Magdalena</td>\n",
       "      <td>14.50% ABV</td>\n",
       "      <td>4 meses em barricas de carvalho francês e amer...</td>\n",
       "      <td>Seco</td>\n",
       "      <td>2017</td>\n",
       "      <td>Rubi intenso com reflexos violáceos</td>\n",
       "      <td>Frutas vermelhas maduras, especiarias e um lev...</td>\n",
       "      <td>Saboroso, taninos macios e final persistente</td>\n",
       "      <td>16 °C</td>\n",
       "      <td>5 anos</td>\n",
       "    </tr>\n",
       "  </tbody>\n",
       "</table>\n",
       "</div>"
      ],
      "text/plain": [
       "     sku    tipo                uva  country                region  \\\n",
       "0  11549  Branco  Furmint (100.00%)  Hungria                 Tokaj   \n",
       "1  12390  Branco    Sauvignon Blanc   França  Languedoc-Roussillon   \n",
       "2  12733   Tinto        Tempranillo  Espanha      Ribera del Júcar   \n",
       "\n",
       "                       vinicola teor_alcoolico  \\\n",
       "0                        Pajzos     11.00% ABV   \n",
       "1  Baron Philippe de Rothschild     12.00% ABV   \n",
       "2                  La Magdalena     14.50% ABV   \n",
       "\n",
       "                                      amadurecimento classificacao safra  \\\n",
       "0                         Sem passagem por carvalho.    Suave/Doce  2003   \n",
       "1                            Em tanques de aço inox.          Seco  2018   \n",
       "2  4 meses em barricas de carvalho francês e amer...          Seco  2017   \n",
       "\n",
       "                                visual  \\\n",
       "0                      Amarelo dourado   \n",
       "1                        Amarelo claro   \n",
       "2  Rubi intenso com reflexos violáceos   \n",
       "\n",
       "                                             ofativo  \\\n",
       "0  Frutas brancas maduras, mel, figo seco, frutas...   \n",
       "1              Notas de frutas cítricas, lima, limão   \n",
       "2  Frutas vermelhas maduras, especiarias e um lev...   \n",
       "\n",
       "                                          gustativo temperatura  \\\n",
       "0  Doce, equilibrado, acidez agradável, final longo       10 °C   \n",
       "1                      Fresco, frutado e boa acidez       10 °C   \n",
       "2      Saboroso, taninos macios e final persistente       16 °C   \n",
       "\n",
       "  potencial_guarda  \n",
       "0          20 anos  \n",
       "1           3 anos  \n",
       "2           5 anos  "
      ]
     },
     "execution_count": 4,
     "metadata": {},
     "output_type": "execute_result"
    }
   ],
   "source": [
    "query = \"\"\" SELECT * FROM ficha_tecnicav1;\"\"\"\n",
    "\n",
    "bd = Postgresql(user='postgres' , password='bruno22#' , host= 'localhost', port= '5432', database = 'brunods')\n",
    "dataset = bd.retrieve_data(query=query)\n",
    "dataset.head(3)"
   ]
  },
  {
   "cell_type": "code",
   "execution_count": 5,
   "metadata": {},
   "outputs": [],
   "source": [
    "#Pré-tratamento\n",
    "dataset['potencial_guarda'] = dataset['potencial_guarda'].apply(lambda x: x.replace('anos',''))\n",
    "dataset['potencial_guarda'] = dataset['potencial_guarda'].astype('int')\n",
    "dataset['temperatura'] = dataset['temperatura'].apply(lambda x: x.replace('°C',''))\n",
    "dataset['temperatura'] = dataset['temperatura'].astype('int')\n",
    "dataset['teor_alcoolico'] = dataset['teor_alcoolico'].apply(lambda x: x.replace('% ABV',''))\n",
    "dataset['teor_alcoolico'] = dataset['teor_alcoolico'].astype('float')"
   ]
  },
  {
   "cell_type": "code",
   "execution_count": 6,
   "metadata": {},
   "outputs": [
    {
     "data": {
      "text/html": [
       "<div>\n",
       "<style scoped>\n",
       "    .dataframe tbody tr th:only-of-type {\n",
       "        vertical-align: middle;\n",
       "    }\n",
       "\n",
       "    .dataframe tbody tr th {\n",
       "        vertical-align: top;\n",
       "    }\n",
       "\n",
       "    .dataframe thead th {\n",
       "        text-align: right;\n",
       "    }\n",
       "</style>\n",
       "<table border=\"1\" class=\"dataframe\">\n",
       "  <thead>\n",
       "    <tr style=\"text-align: right;\">\n",
       "      <th></th>\n",
       "      <th>sku</th>\n",
       "      <th>tipo</th>\n",
       "      <th>uva</th>\n",
       "      <th>country</th>\n",
       "      <th>region</th>\n",
       "      <th>vinicola</th>\n",
       "      <th>teor_alcoolico</th>\n",
       "      <th>amadurecimento</th>\n",
       "      <th>classificacao</th>\n",
       "      <th>safra</th>\n",
       "      <th>visual</th>\n",
       "      <th>ofativo</th>\n",
       "      <th>gustativo</th>\n",
       "      <th>temperatura</th>\n",
       "      <th>potencial_guarda</th>\n",
       "    </tr>\n",
       "  </thead>\n",
       "  <tbody>\n",
       "    <tr>\n",
       "      <th>0</th>\n",
       "      <td>11549</td>\n",
       "      <td>Branco</td>\n",
       "      <td>Furmint (100.00%)</td>\n",
       "      <td>Hungria</td>\n",
       "      <td>Tokaj</td>\n",
       "      <td>Pajzos</td>\n",
       "      <td>11.0</td>\n",
       "      <td>Sem passagem por carvalho.</td>\n",
       "      <td>Suave/Doce</td>\n",
       "      <td>2003</td>\n",
       "      <td>Amarelo dourado</td>\n",
       "      <td>Frutas brancas maduras, mel, figo seco, frutas...</td>\n",
       "      <td>Doce, equilibrado, acidez agradável, final longo</td>\n",
       "      <td>10</td>\n",
       "      <td>20</td>\n",
       "    </tr>\n",
       "    <tr>\n",
       "      <th>1</th>\n",
       "      <td>12390</td>\n",
       "      <td>Branco</td>\n",
       "      <td>Sauvignon Blanc</td>\n",
       "      <td>França</td>\n",
       "      <td>Languedoc-Roussillon</td>\n",
       "      <td>Baron Philippe de Rothschild</td>\n",
       "      <td>12.0</td>\n",
       "      <td>Em tanques de aço inox.</td>\n",
       "      <td>Seco</td>\n",
       "      <td>2018</td>\n",
       "      <td>Amarelo claro</td>\n",
       "      <td>Notas de frutas cítricas, lima, limão</td>\n",
       "      <td>Fresco, frutado e boa acidez</td>\n",
       "      <td>10</td>\n",
       "      <td>3</td>\n",
       "    </tr>\n",
       "    <tr>\n",
       "      <th>2</th>\n",
       "      <td>12733</td>\n",
       "      <td>Tinto</td>\n",
       "      <td>Tempranillo</td>\n",
       "      <td>Espanha</td>\n",
       "      <td>Ribera del Júcar</td>\n",
       "      <td>La Magdalena</td>\n",
       "      <td>14.5</td>\n",
       "      <td>4 meses em barricas de carvalho francês e amer...</td>\n",
       "      <td>Seco</td>\n",
       "      <td>2017</td>\n",
       "      <td>Rubi intenso com reflexos violáceos</td>\n",
       "      <td>Frutas vermelhas maduras, especiarias e um lev...</td>\n",
       "      <td>Saboroso, taninos macios e final persistente</td>\n",
       "      <td>16</td>\n",
       "      <td>5</td>\n",
       "    </tr>\n",
       "  </tbody>\n",
       "</table>\n",
       "</div>"
      ],
      "text/plain": [
       "     sku    tipo                uva  country                region  \\\n",
       "0  11549  Branco  Furmint (100.00%)  Hungria                 Tokaj   \n",
       "1  12390  Branco    Sauvignon Blanc   França  Languedoc-Roussillon   \n",
       "2  12733   Tinto        Tempranillo  Espanha      Ribera del Júcar   \n",
       "\n",
       "                       vinicola  teor_alcoolico  \\\n",
       "0                        Pajzos            11.0   \n",
       "1  Baron Philippe de Rothschild            12.0   \n",
       "2                  La Magdalena            14.5   \n",
       "\n",
       "                                      amadurecimento classificacao safra  \\\n",
       "0                         Sem passagem por carvalho.    Suave/Doce  2003   \n",
       "1                            Em tanques de aço inox.          Seco  2018   \n",
       "2  4 meses em barricas de carvalho francês e amer...          Seco  2017   \n",
       "\n",
       "                                visual  \\\n",
       "0                      Amarelo dourado   \n",
       "1                        Amarelo claro   \n",
       "2  Rubi intenso com reflexos violáceos   \n",
       "\n",
       "                                             ofativo  \\\n",
       "0  Frutas brancas maduras, mel, figo seco, frutas...   \n",
       "1              Notas de frutas cítricas, lima, limão   \n",
       "2  Frutas vermelhas maduras, especiarias e um lev...   \n",
       "\n",
       "                                          gustativo  temperatura  \\\n",
       "0  Doce, equilibrado, acidez agradável, final longo           10   \n",
       "1                      Fresco, frutado e boa acidez           10   \n",
       "2      Saboroso, taninos macios e final persistente           16   \n",
       "\n",
       "   potencial_guarda  \n",
       "0                20  \n",
       "1                 3  \n",
       "2                 5  "
      ]
     },
     "execution_count": 6,
     "metadata": {},
     "output_type": "execute_result"
    }
   ],
   "source": [
    "dataset.head(3)"
   ]
  },
  {
   "cell_type": "code",
   "execution_count": 7,
   "metadata": {},
   "outputs": [
    {
     "data": {
      "text/plain": [
       "potencial_guarda    0\n",
       "temperatura         0\n",
       "gustativo           0\n",
       "ofativo             0\n",
       "visual              0\n",
       "safra               0\n",
       "classificacao       0\n",
       "amadurecimento      0\n",
       "teor_alcoolico      0\n",
       "vinicola            0\n",
       "region              0\n",
       "country             0\n",
       "uva                 0\n",
       "tipo                0\n",
       "sku                 0\n",
       "dtype: int64"
      ]
     },
     "execution_count": 7,
     "metadata": {},
     "output_type": "execute_result"
    }
   ],
   "source": [
    "#checando valores nulos\n",
    "#Um valor nulo na variavel Safra não nos trara problemas\n",
    "dataset.isnull().sum().sort_values(ascending=False)"
   ]
  },
  {
   "cell_type": "markdown",
   "metadata": {},
   "source": [
    "# Variáveis Categoricas"
   ]
  },
  {
   "cell_type": "code",
   "execution_count": 8,
   "metadata": {},
   "outputs": [],
   "source": [
    "# Insigths_categoricas\n",
    "#Dos 517  vinhos 385 são tintos (74%), 120 são franceses (23%) somente 4% brasileiros, 78% são do tipo seco, 121 tem teor alcoolico de 13%, 67% dos vinhos são da safra de 2016 a 2018\n",
    "dataset_temp = dataset.drop(['teor_alcoolico', 'temperatura', 'potencial_guarda'], axis=1)"
   ]
  },
  {
   "cell_type": "code",
   "execution_count": 9,
   "metadata": {},
   "outputs": [
    {
     "data": {
      "text/html": [
       "<div>\n",
       "<style scoped>\n",
       "    .dataframe tbody tr th:only-of-type {\n",
       "        vertical-align: middle;\n",
       "    }\n",
       "\n",
       "    .dataframe tbody tr th {\n",
       "        vertical-align: top;\n",
       "    }\n",
       "\n",
       "    .dataframe thead th {\n",
       "        text-align: right;\n",
       "    }\n",
       "</style>\n",
       "<table border=\"1\" class=\"dataframe\">\n",
       "  <thead>\n",
       "    <tr style=\"text-align: right;\">\n",
       "      <th></th>\n",
       "      <th>sku</th>\n",
       "      <th>tipo</th>\n",
       "      <th>uva</th>\n",
       "      <th>country</th>\n",
       "      <th>region</th>\n",
       "      <th>vinicola</th>\n",
       "      <th>amadurecimento</th>\n",
       "      <th>classificacao</th>\n",
       "      <th>safra</th>\n",
       "      <th>visual</th>\n",
       "      <th>ofativo</th>\n",
       "      <th>gustativo</th>\n",
       "    </tr>\n",
       "  </thead>\n",
       "  <tbody>\n",
       "    <tr>\n",
       "      <th>count</th>\n",
       "      <td>453</td>\n",
       "      <td>453</td>\n",
       "      <td>453</td>\n",
       "      <td>453</td>\n",
       "      <td>453</td>\n",
       "      <td>453</td>\n",
       "      <td>453</td>\n",
       "      <td>453</td>\n",
       "      <td>453</td>\n",
       "      <td>453</td>\n",
       "      <td>453</td>\n",
       "      <td>453</td>\n",
       "    </tr>\n",
       "    <tr>\n",
       "      <th>unique</th>\n",
       "      <td>451</td>\n",
       "      <td>5</td>\n",
       "      <td>289</td>\n",
       "      <td>16</td>\n",
       "      <td>118</td>\n",
       "      <td>157</td>\n",
       "      <td>275</td>\n",
       "      <td>4</td>\n",
       "      <td>19</td>\n",
       "      <td>72</td>\n",
       "      <td>422</td>\n",
       "      <td>414</td>\n",
       "    </tr>\n",
       "    <tr>\n",
       "      <th>top</th>\n",
       "      <td>13911</td>\n",
       "      <td>Tinto</td>\n",
       "      <td>Cabernet Sauvignon</td>\n",
       "      <td>Chile</td>\n",
       "      <td>Valle Central</td>\n",
       "      <td>Viña Las Perdices</td>\n",
       "      <td>Em tanques de aço inox.</td>\n",
       "      <td>Seco</td>\n",
       "      <td>2018</td>\n",
       "      <td>Rubi</td>\n",
       "      <td>Frutas vermelhas, floral</td>\n",
       "      <td>Frutado, leve, acidez agradável</td>\n",
       "    </tr>\n",
       "    <tr>\n",
       "      <th>freq</th>\n",
       "      <td>2</td>\n",
       "      <td>312</td>\n",
       "      <td>25</td>\n",
       "      <td>88</td>\n",
       "      <td>28</td>\n",
       "      <td>18</td>\n",
       "      <td>55</td>\n",
       "      <td>357</td>\n",
       "      <td>118</td>\n",
       "      <td>156</td>\n",
       "      <td>4</td>\n",
       "      <td>5</td>\n",
       "    </tr>\n",
       "  </tbody>\n",
       "</table>\n",
       "</div>"
      ],
      "text/plain": [
       "          sku   tipo                 uva country          region  \\\n",
       "count     453    453                 453     453             453   \n",
       "unique    451      5                 289      16             118   \n",
       "top     13911  Tinto  Cabernet Sauvignon   Chile  Valle Central    \n",
       "freq        2    312                  25      88              28   \n",
       "\n",
       "                 vinicola           amadurecimento classificacao safra visual  \\\n",
       "count                 453                      453           453   453    453   \n",
       "unique                157                      275             4    19     72   \n",
       "top     Viña Las Perdices  Em tanques de aço inox.          Seco  2018   Rubi   \n",
       "freq                   18                       55           357   118    156   \n",
       "\n",
       "                         ofativo                        gustativo  \n",
       "count                        453                              453  \n",
       "unique                       422                              414  \n",
       "top     Frutas vermelhas, floral  Frutado, leve, acidez agradável  \n",
       "freq                           4                                5  "
      ]
     },
     "execution_count": 9,
     "metadata": {},
     "output_type": "execute_result"
    }
   ],
   "source": [
    "dataset_temp.describe()"
   ]
  },
  {
   "cell_type": "code",
   "execution_count": 10,
   "metadata": {},
   "outputs": [
    {
     "data": {
      "image/png": "[encoded data removed]",
      "text/plain": [
       "<Figure size 720x432 with 1 Axes>"
      ]
     },
     "metadata": {
      "needs_background": "light"
     },
     "output_type": "display_data"
    }
   ],
   "source": [
    "tipo_vinho = dataset_temp.loc[:,['tipo','sku']].groupby('tipo').count()\n",
    "tipo_vinho.reset_index(inplace=True)\n",
    "\n",
    "\n",
    "# Plot\n",
    "fig, ax = plt.subplots(figsize= (10,6))\n",
    "plot = ax.bar(tipo_vinho['tipo'], tipo_vinho['sku'])\n",
    "ax.set_xlabel('Tipo')\n",
    "ax.set_ylabel('Proporção')\n",
    "\n",
    "\n",
    "for i in plot:\n",
    "    var = round(i.get_height()/sum(tipo_vinho['sku']),2)\n",
    "    ax.annotate('{}'.format(var),\n",
    "                    xy=(i.get_x()+i.get_width()/2, i.get_height()),\n",
    "                    xytext=(0,3),\n",
    "                    textcoords=\"offset points\",\n",
    "                    ha='center', va='bottom')\n",
    "\n",
    "\n",
    "plt.show()"
   ]
  },
  {
   "cell_type": "code",
   "execution_count": 11,
   "metadata": {},
   "outputs": [
    {
     "data": {
      "image/png": "[encoded data removed]",
      "text/plain": [
       "<Figure size 1584x432 with 1 Axes>"
      ]
     },
     "metadata": {
      "needs_background": "light"
     },
     "output_type": "display_data"
    }
   ],
   "source": [
    "pais_vinho = dataset_temp.loc[:,['country','sku']].groupby('country').count()\n",
    "pais_vinho.reset_index(inplace=True)\n",
    "\n",
    "\n",
    "# Plot\n",
    "fig, ax = plt.subplots(figsize= (22,6))\n",
    "plot = ax.bar(pais_vinho['country'], pais_vinho['sku'])\n",
    "ax.set_xlabel('Pais')\n",
    "ax.set_ylabel('Proporção')\n",
    "\n",
    "\n",
    "for i in plot:\n",
    "    var = round(i.get_height()/sum(pais_vinho['sku']),2)\n",
    "    ax.annotate('{}'.format(var),\n",
    "                    xy=(i.get_x()+i.get_width()/2, i.get_height()),\n",
    "                    xytext=(0,3),\n",
    "                    textcoords=\"offset points\",\n",
    "                    ha='center', va='bottom')\n",
    "\n",
    "\n",
    "plt.show()"
   ]
  },
  {
   "cell_type": "code",
   "execution_count": 12,
   "metadata": {},
   "outputs": [
    {
     "data": {
      "image/png": "[encoded data removed]",
      "text/plain": [
       "<Figure size 1584x432 with 1 Axes>"
      ]
     },
     "metadata": {
      "needs_background": "light"
     },
     "output_type": "display_data"
    }
   ],
   "source": [
    "class_vinho = dataset_temp.loc[:,['classificacao','sku']].groupby('classificacao').count()\n",
    "class_vinho.reset_index(inplace=True)\n",
    "\n",
    "\n",
    "# Plot\n",
    "fig, ax = plt.subplots(figsize= (22,6))\n",
    "plot = ax.bar(class_vinho['classificacao'], class_vinho['sku'])\n",
    "ax.set_xlabel('Classificacao')\n",
    "ax.set_ylabel('Proporção')\n",
    "\n",
    "\n",
    "for i in plot:\n",
    "    var = round(i.get_height()/sum(class_vinho['sku']),2)\n",
    "    ax.annotate('{}'.format(var),\n",
    "                    xy=(i.get_x()+i.get_width()/2, i.get_height()),\n",
    "                    xytext=(0,3),\n",
    "                    textcoords=\"offset points\",\n",
    "                    ha='center', va='bottom')\n",
    "\n",
    "\n",
    "plt.show()"
   ]
  },
  {
   "cell_type": "code",
   "execution_count": 13,
   "metadata": {},
   "outputs": [
    {
     "data": {
      "image/png": "[encoded data removed]",
      "text/plain": [
       "<Figure size 1584x432 with 1 Axes>"
      ]
     },
     "metadata": {
      "needs_background": "light"
     },
     "output_type": "display_data"
    }
   ],
   "source": [
    "safra_vinho = dataset_temp.loc[:,['safra','sku']].groupby('safra').count()\n",
    "safra_vinho.reset_index(inplace=True)\n",
    "\n",
    "\n",
    "# Plot\n",
    "fig, ax = plt.subplots(figsize= (22,6))\n",
    "plot = ax.bar(safra_vinho['safra'], safra_vinho['sku'])\n",
    "ax.set_xlabel('Safra')\n",
    "ax.set_ylabel('Proporção')\n",
    "\n",
    "\n",
    "for i in plot:\n",
    "    var = round(i.get_height()/sum(safra_vinho['sku']),2)\n",
    "    ax.annotate('{}'.format(var),\n",
    "                    xy=(i.get_x()+i.get_width()/2, i.get_height()),\n",
    "                    xytext=(0,3),\n",
    "                    textcoords=\"offset points\",\n",
    "                    ha='center', va='bottom')\n",
    "\n",
    "\n",
    "plt.show()"
   ]
  },
  {
   "cell_type": "markdown",
   "metadata": {},
   "source": [
    "# Variáveis Numericas"
   ]
  },
  {
   "cell_type": "code",
   "execution_count": 14,
   "metadata": {},
   "outputs": [
    {
     "data": {
      "text/html": [
       "<div>\n",
       "<style scoped>\n",
       "    .dataframe tbody tr th:only-of-type {\n",
       "        vertical-align: middle;\n",
       "    }\n",
       "\n",
       "    .dataframe tbody tr th {\n",
       "        vertical-align: top;\n",
       "    }\n",
       "\n",
       "    .dataframe thead th {\n",
       "        text-align: right;\n",
       "    }\n",
       "</style>\n",
       "<table border=\"1\" class=\"dataframe\">\n",
       "  <thead>\n",
       "    <tr style=\"text-align: right;\">\n",
       "      <th></th>\n",
       "      <th>teor_alcoolico</th>\n",
       "      <th>temperatura</th>\n",
       "      <th>potencial_guarda</th>\n",
       "    </tr>\n",
       "  </thead>\n",
       "  <tbody>\n",
       "    <tr>\n",
       "      <th>count</th>\n",
       "      <td>453.00</td>\n",
       "      <td>453.00</td>\n",
       "      <td>453.00</td>\n",
       "    </tr>\n",
       "    <tr>\n",
       "      <th>mean</th>\n",
       "      <td>13.41</td>\n",
       "      <td>13.57</td>\n",
       "      <td>6.93</td>\n",
       "    </tr>\n",
       "    <tr>\n",
       "      <th>std</th>\n",
       "      <td>1.03</td>\n",
       "      <td>3.31</td>\n",
       "      <td>5.18</td>\n",
       "    </tr>\n",
       "    <tr>\n",
       "      <th>min</th>\n",
       "      <td>5.50</td>\n",
       "      <td>7.00</td>\n",
       "      <td>2.00</td>\n",
       "    </tr>\n",
       "    <tr>\n",
       "      <th>25%</th>\n",
       "      <td>13.00</td>\n",
       "      <td>10.00</td>\n",
       "      <td>4.00</td>\n",
       "    </tr>\n",
       "    <tr>\n",
       "      <th>50%</th>\n",
       "      <td>13.50</td>\n",
       "      <td>15.00</td>\n",
       "      <td>5.00</td>\n",
       "    </tr>\n",
       "    <tr>\n",
       "      <th>75%</th>\n",
       "      <td>14.00</td>\n",
       "      <td>16.00</td>\n",
       "      <td>8.00</td>\n",
       "    </tr>\n",
       "    <tr>\n",
       "      <th>max</th>\n",
       "      <td>18.00</td>\n",
       "      <td>18.00</td>\n",
       "      <td>50.00</td>\n",
       "    </tr>\n",
       "  </tbody>\n",
       "</table>\n",
       "</div>"
      ],
      "text/plain": [
       "       teor_alcoolico  temperatura  potencial_guarda\n",
       "count          453.00       453.00            453.00\n",
       "mean            13.41        13.57              6.93\n",
       "std              1.03         3.31              5.18\n",
       "min              5.50         7.00              2.00\n",
       "25%             13.00        10.00              4.00\n",
       "50%             13.50        15.00              5.00\n",
       "75%             14.00        16.00              8.00\n",
       "max             18.00        18.00             50.00"
      ]
     },
     "execution_count": 14,
     "metadata": {},
     "output_type": "execute_result"
    }
   ],
   "source": [
    "# Insigths_numericas\n",
    "# Alto std do potencial de guarda com vinhos podendo ter até 50 anos de potencial de guarda\n",
    "\n",
    "dataset_num = dataset.copy()\n",
    "dataset_num.describe().round(2)"
   ]
  },
  {
   "cell_type": "markdown",
   "metadata": {},
   "source": [
    "# Checando se os dados seguem distribuição normal."
   ]
  },
  {
   "cell_type": "code",
   "execution_count": 15,
   "metadata": {},
   "outputs": [
    {
     "data": {
      "text/plain": [
       "Text(0.5, 0, 'Potencial Guarda')"
      ]
     },
     "execution_count": 15,
     "metadata": {},
     "output_type": "execute_result"
    },
    {
     "data": {
      "image/png": "[encoded data removed]",
      "text/plain": [
       "<Figure size 864x288 with 3 Axes>"
      ]
     },
     "metadata": {
      "needs_background": "light"
     },
     "output_type": "display_data"
    }
   ],
   "source": [
    "# Tabela ficha_tecnica\n",
    "f, (ax,ax1,ax2) = plt.subplots(1,3, figsize=(12,4))\n",
    "\n",
    "plot = ax.hist(dataset_num['teor_alcoolico'])\n",
    "ax.axvline(np.mean(dataset_num['teor_alcoolico']), color='b', linestyle='dashed', linewidth=5)\n",
    "\n",
    "plot1 = ax1.hist(dataset_num['temperatura'])\n",
    "ax1.axvline(np.mean(dataset_num['temperatura']), color='b', linestyle='dashed', linewidth=5)\n",
    "\n",
    "plot2 = ax2.hist(dataset_num['potencial_guarda'])\n",
    "ax2.axvline(np.mean(dataset_num['potencial_guarda']), color='b', linestyle='dashed', linewidth=5)\n",
    "\n",
    "\n",
    "ax.set_xlabel('Teor Alcoolico')\n",
    "ax1.set_xlabel('Temperatura')\n",
    "ax2.set_xlabel('Potencial Guarda')\n"
   ]
  },
  {
   "cell_type": "code",
   "execution_count": 59,
   "metadata": {},
   "outputs": [
    {
     "name": "stdout",
     "output_type": "stream",
     "text": [
      "Buscando os dados!!!\n",
      "Conexão com Postgresql fechada\n"
     ]
    },
    {
     "data": {
      "text/plain": [
       "Text(0.5, 0, 'rating')"
      ]
     },
     "execution_count": 59,
     "metadata": {},
     "output_type": "execute_result"
    },
    {
     "data": {
      "image/png": "[encoded data removed]",
      "text/plain": [
       "<Figure size 864x288 with 2 Axes>"
      ]
     },
     "metadata": {
      "needs_background": "light"
     },
     "output_type": "display_data"
    }
   ],
   "source": [
    "#Tabela rating\n",
    "query_rating = \"\"\"SELECT * FROM ratingv1 \"\"\" \n",
    "dataset_rating = bd.retrieve_data(query=query_rating)\n",
    "\n",
    "\n",
    "f, (ax,ax1) = plt.subplots(1,2, figsize=(12,4))\n",
    "plot = ax.hist(dataset_rating['contagem'])\n",
    "ax.axvline(np.mean(dataset_rating['contagem']), color='b', linestyle='dashed', linewidth=5)\n",
    "plot1 = ax1.hist(dataset_rating['rating'])\n",
    "ax1.axvline(np.mean(dataset_rating['rating']), color='b', linestyle='dashed', linewidth=5)\n",
    "\n",
    "ax.set_xlabel('contagem')\n",
    "ax1.set_xlabel('rating')"
   ]
  },
  {
   "cell_type": "code",
   "execution_count": 58,
   "metadata": {},
   "outputs": [
    {
     "data": {
      "image/png": "[encoded data removed]",
      "text/plain": [
       "<Figure size 864x432 with 1 Axes>"
      ]
     },
     "metadata": {
      "needs_background": "light"
     },
     "output_type": "display_data"
    }
   ],
   "source": [
    "# >= rating 4 = 1\n",
    "# < rating 4 = 0\n",
    "\n",
    "rating_vinho = dataset_rating.loc[dataset_rating['rating'] != 0,['rating','sku']].groupby('rating').count()\n",
    "rating_vinho.reset_index(inplace=True)\n",
    "\n",
    "\n",
    "# Plot\n",
    "fig, ax = plt.subplots(figsize= (12,6))\n",
    "plot = ax.bar(rating_vinho['rating'], rating_vinho['sku'])\n",
    "ax.set_xlabel('Rating')\n",
    "ax.set_ylabel('Proporção')\n",
    "plt.axvline(np.mean(rating_vinho['rating']), color='b', linestyle='dashed', linewidth=5)\n",
    "\n",
    "for i in plot:\n",
    "    var = round(i.get_height()/sum(rating_vinho['sku']),2)\n",
    "    ax.annotate('{}'.format(var),\n",
    "                    xy=(i.get_x()+i.get_width()/2, i.get_height()),\n",
    "                    xytext=(0,3),\n",
    "                    textcoords=\"offset points\",\n",
    "                    ha='center', va='bottom')\n",
    "\n",
    "\n",
    "plt.show()"
   ]
  },
  {
   "cell_type": "code",
   "execution_count": 60,
   "metadata": {},
   "outputs": [
    {
     "name": "stdout",
     "output_type": "stream",
     "text": [
      "Buscando os dados!!!\n",
      "Conexão com Postgresql fechada\n",
      "Buscando os dados!!!\n",
      "Conexão com Postgresql fechada\n",
      "Buscando os dados!!!\n",
      "Conexão com Postgresql fechada\n",
      "Buscando os dados!!!\n",
      "Conexão com Postgresql fechada\n"
     ]
    }
   ],
   "source": [
    "# boxplots dos preços\n",
    "# Total\n",
    "query_boxplot_pop= \"\"\"SELECT * FROM pricev1 \"\"\" \n",
    "dataset_price_boxplots = bd.retrieve_data(query=query_boxplot_pop)\n",
    "\n",
    "seq1 = dataset_price_boxplots['price_socio'].astype('float')\n",
    "seq2 = dataset_price_boxplots['price_nonsocio'].astype('float')\n",
    "\n",
    "\n",
    "#Por pais\n",
    "query_boxplot_pais= \"\"\"SELECT country, price_socio, price_nonsocio FROM pricev1 pr inner join ficha_tecnicav1 ft on pr.sku=ft.sku \"\"\" \n",
    "query_boxplot_pais_box = bd.retrieve_data(query=query_boxplot_pais)\n",
    "\n",
    "dat1 = query_boxplot_pais_box.loc[:, ['country','price_socio']]\n",
    "dat1['price_socio'] = dat1['price_socio'].astype('float') \n",
    "dat2 = query_boxplot_pais_box.loc[:, ['country','price_nonsocio']]\n",
    "dat2['price_nonsocio'] = dat2['price_nonsocio'].astype('float')\n",
    "\n",
    "#Por tipo\n",
    "query_boxplot_tipo= \"\"\"SELECT tipo, price_socio, price_nonsocio FROM pricev1 pr inner join ficha_tecnicav1 ft on pr.sku=ft.sku \"\"\" \n",
    "dataset_price_tipo_box = bd.retrieve_data(query=query_boxplot_tipo)\n",
    "\n",
    "set1 =  dataset_price_tipo_box.loc[:, ['tipo','price_socio']]\n",
    "set1['price_socio'] = set1['price_socio'].astype('float')\n",
    "set2 =  dataset_price_tipo_box.loc[:, ['tipo','price_nonsocio']]\n",
    "set2['price_nonsocio'] = set2['price_nonsocio'].astype('float')\n",
    "\n",
    "#Por classificação\n",
    "query_boxplot_class= \"\"\"SELECT classificacao, price_socio, price_nonsocio FROM pricev1 pr inner join ficha_tecnicav1 ft on pr.sku=ft.sku \"\"\" \n",
    "dataset_price_class_box = bd.retrieve_data(query=query_boxplot_class)\n",
    "\n",
    "part1 = dataset_price_class_box.loc[:, ['classificacao','price_socio']]\n",
    "part1['price_socio'] = part1['price_socio'].astype('float')\n",
    "part2 = dataset_price_class_box.loc[:, ['classificacao','price_nonsocio']]\n",
    "part2['price_nonsocio'] = part2['price_nonsocio'].astype('float')"
   ]
  },
  {
   "cell_type": "code",
   "execution_count": 61,
   "metadata": {},
   "outputs": [
    {
     "data": {
      "image/png": "[encoded data removed]",
      "text/plain": [
       "<Figure size 720x432 with 2 Axes>"
      ]
     },
     "metadata": {
      "needs_background": "light"
     },
     "output_type": "display_data"
    }
   ],
   "source": [
    "# Boxplots Prices Total\n",
    "f, (ax,ax1) = plt.subplots(1,2, figsize = (10,6))\n",
    "ax.boxplot(seq1)\n",
    "ax.set_title('price_socio')\n",
    "ax1.boxplot(seq2)\n",
    "ax1.set_title('price_nonsocio')\n",
    "plt.show()"
   ]
  },
  {
   "cell_type": "code",
   "execution_count": 62,
   "metadata": {},
   "outputs": [
    {
     "data": {
      "text/plain": [
       "<matplotlib.axes._subplots.AxesSubplot at 0x7f6ac4d9d9d0>"
      ]
     },
     "execution_count": 62,
     "metadata": {},
     "output_type": "execute_result"
    },
    {
     "data": {
      "image/png": "[encoded data removed]",
      "text/plain": [
       "<Figure size 1584x576 with 2 Axes>"
      ]
     },
     "metadata": {
      "needs_background": "light"
     },
     "output_type": "display_data"
    }
   ],
   "source": [
    "# Boxplots Prices per country\n",
    "f, (ax,ax1) = plt.subplots(1,2, figsize = (22,8))\n",
    "sns.boxplot(dat1['price_socio'], dat1['country'], data=dat1, ax=ax)\n",
    "sns.boxplot(dat2['price_nonsocio'], dat2['country'], data=dat2, ax=ax1)"
   ]
  },
  {
   "cell_type": "code",
   "execution_count": 63,
   "metadata": {},
   "outputs": [
    {
     "data": {
      "text/plain": [
       "<matplotlib.axes._subplots.AxesSubplot at 0x7f6ac4c13590>"
      ]
     },
     "execution_count": 63,
     "metadata": {},
     "output_type": "execute_result"
    },
    {
     "data": {
      "image/png": "[encoded data removed]",
      "text/plain": [
       "<Figure size 1584x576 with 2 Axes>"
      ]
     },
     "metadata": {
      "needs_background": "light"
     },
     "output_type": "display_data"
    }
   ],
   "source": [
    "# Boxplots Prices per tipo\n",
    "f, (ax,ax1) = plt.subplots(1,2, figsize = (22,8))\n",
    "sns.boxplot(set1['price_socio'], set1['tipo'], data=set1, ax=ax)\n",
    "sns.boxplot(set2['price_nonsocio'], set2['tipo'], data=set2, ax=ax1)"
   ]
  },
  {
   "cell_type": "markdown",
   "metadata": {},
   "source": [
    "# Testes-T e ANOVA"
   ]
  },
  {
   "cell_type": "markdown",
   "metadata": {},
   "source": [
    "# Pergunta 1:\n",
    "#### Existem diferenças significativas nos ratings por pais?\n",
    "\n",
    "- Hipotese nula - Todos os países não possuem diferenças siginificativas entre seus ratings.\n",
    "\n",
    "- Hipotese alternativa - Pelo menos um par de pais possui diferença siginificativa em seus ratings. \n",
    "\n",
    "# Conclusão:\n",
    "Não existem evidências suficientes para se rejeitar a hipotese nula"
   ]
  },
  {
   "cell_type": "code",
   "execution_count": 64,
   "metadata": {},
   "outputs": [
    {
     "name": "stdout",
     "output_type": "stream",
     "text": [
      "Buscando os dados!!!\n",
      "Conexão com Postgresql fechada\n"
     ]
    },
    {
     "data": {
      "text/html": [
       "<div>\n",
       "<style scoped>\n",
       "    .dataframe tbody tr th:only-of-type {\n",
       "        vertical-align: middle;\n",
       "    }\n",
       "\n",
       "    .dataframe tbody tr th {\n",
       "        vertical-align: top;\n",
       "    }\n",
       "\n",
       "    .dataframe thead th {\n",
       "        text-align: right;\n",
       "    }\n",
       "</style>\n",
       "<table border=\"1\" class=\"dataframe\">\n",
       "  <thead>\n",
       "    <tr style=\"text-align: right;\">\n",
       "      <th></th>\n",
       "      <th>country</th>\n",
       "      <th>avg</th>\n",
       "    </tr>\n",
       "  </thead>\n",
       "  <tbody>\n",
       "    <tr>\n",
       "      <th>0</th>\n",
       "      <td>Argentina</td>\n",
       "      <td>0.413793</td>\n",
       "    </tr>\n",
       "    <tr>\n",
       "      <th>1</th>\n",
       "      <td>Hungria</td>\n",
       "      <td>0.000000</td>\n",
       "    </tr>\n",
       "    <tr>\n",
       "      <th>2</th>\n",
       "      <td>Estados Unidos</td>\n",
       "      <td>0.333333</td>\n",
       "    </tr>\n",
       "    <tr>\n",
       "      <th>3</th>\n",
       "      <td>Chile</td>\n",
       "      <td>0.666667</td>\n",
       "    </tr>\n",
       "    <tr>\n",
       "      <th>4</th>\n",
       "      <td>Espanha</td>\n",
       "      <td>0.560976</td>\n",
       "    </tr>\n",
       "    <tr>\n",
       "      <th>5</th>\n",
       "      <td>África do Sul</td>\n",
       "      <td>0.000000</td>\n",
       "    </tr>\n",
       "    <tr>\n",
       "      <th>6</th>\n",
       "      <td>Uruguai</td>\n",
       "      <td>0.000000</td>\n",
       "    </tr>\n",
       "    <tr>\n",
       "      <th>7</th>\n",
       "      <td>Austrália</td>\n",
       "      <td>1.000000</td>\n",
       "    </tr>\n",
       "    <tr>\n",
       "      <th>8</th>\n",
       "      <td>Brasil</td>\n",
       "      <td>1.222222</td>\n",
       "    </tr>\n",
       "    <tr>\n",
       "      <th>9</th>\n",
       "      <td>Itália</td>\n",
       "      <td>1.037037</td>\n",
       "    </tr>\n",
       "    <tr>\n",
       "      <th>10</th>\n",
       "      <td>Nova Zelândia</td>\n",
       "      <td>0.000000</td>\n",
       "    </tr>\n",
       "    <tr>\n",
       "      <th>11</th>\n",
       "      <td>Portugal</td>\n",
       "      <td>0.291667</td>\n",
       "    </tr>\n",
       "    <tr>\n",
       "      <th>12</th>\n",
       "      <td>Alemanha</td>\n",
       "      <td>0.000000</td>\n",
       "    </tr>\n",
       "    <tr>\n",
       "      <th>13</th>\n",
       "      <td>França</td>\n",
       "      <td>0.522727</td>\n",
       "    </tr>\n",
       "    <tr>\n",
       "      <th>14</th>\n",
       "      <td>Áustria</td>\n",
       "      <td>0.000000</td>\n",
       "    </tr>\n",
       "  </tbody>\n",
       "</table>\n",
       "</div>"
      ],
      "text/plain": [
       "           country       avg\n",
       "0        Argentina  0.413793\n",
       "1          Hungria  0.000000\n",
       "2   Estados Unidos  0.333333\n",
       "3            Chile  0.666667\n",
       "4          Espanha  0.560976\n",
       "5    África do Sul  0.000000\n",
       "6          Uruguai  0.000000\n",
       "7        Austrália  1.000000\n",
       "8           Brasil  1.222222\n",
       "9           Itália  1.037037\n",
       "10   Nova Zelândia  0.000000\n",
       "11        Portugal  0.291667\n",
       "12        Alemanha  0.000000\n",
       "13          França  0.522727\n",
       "14         Áustria  0.000000"
      ]
     },
     "execution_count": 64,
     "metadata": {},
     "output_type": "execute_result"
    }
   ],
   "source": [
    "query = \"\"\" SELECT country, avg(rating) \n",
    "            FROM ficha_tecnicav1 ft\n",
    "            INNER JOIN ratingv1 pr on ft.sku=pr.sku\n",
    "            GROUP BY country;\"\"\"\n",
    "\n",
    "bd = Postgresql(user='postgres' , password='bruno22#' , host= 'localhost', port= '5432', database = 'brunods')\n",
    "dataset = bd.retrieve_data(query=query)\n",
    "dataset"
   ]
  },
  {
   "cell_type": "code",
   "execution_count": 66,
   "metadata": {},
   "outputs": [
    {
     "name": "stdout",
     "output_type": "stream",
     "text": [
      "Buscando os dados!!!\n",
      "Conexão com Postgresql fechada\n",
      "\n",
      "\n",
      "Tamanho da amostra um é 9\n",
      "Tamanho da amostra um é 29\n",
      "\n",
      "\n",
      "O valor de p é: 0.295273243381649\n",
      "Provável que não haja diferença\n"
     ]
    }
   ],
   "source": [
    "#test t-test ranting vinhos brasil e argentina\n",
    "\n",
    "query = \"\"\" SELECT country, rating \n",
    "            FROM ficha_tecnicav1 ft\n",
    "            INNER JOIN ratingv1 pr on ft.sku=pr.sku;\"\"\"\n",
    "\n",
    "bd = Postgresql(user='postgres' , password='bruno22#' , host= 'localhost', port= '5432', database = 'brunods')\n",
    "dataset_test = bd.retrieve_data(query=query)\n",
    "\n",
    "print('\\n')\n",
    "data1 = dataset_test.loc[dataset_test['country']== 'Brasil',:].rating\n",
    "print(f'Tamanho da amostra um é {len(data1)}')\n",
    "data2 = dataset_test.loc[dataset_test['country']== 'Argentina',:].rating\n",
    "data2_sampled = np.random.choice(data2,3)\n",
    "print(f'Tamanho da amostra um é {len(data2)}')\n",
    "print('\\n')      \n",
    "      \n",
    "stat, p = ttest_ind(data1, data2_sampled)\n",
    "print(f'O valor de p é: {p}')\n",
    "\n",
    "if p < 0.05:\n",
    "    print('Provável haver diferença')\n",
    "else:\n",
    "    print('Provável que não haja diferença')"
   ]
  },
  {
   "cell_type": "code",
   "execution_count": 68,
   "metadata": {},
   "outputs": [
    {
     "name": "stdout",
     "output_type": "stream",
     "text": [
      "Buscando os dados!!!\n",
      "Conexão com Postgresql fechada\n",
      "Tamanho original das distribuições: Argentina: 29, \n",
      "                                            Estados Unidos: 24, China: 0, Chile: 63, \n",
      "                                            Espanha: 41, África do Sul: 9, Uruguai: 3, \n",
      "                                            Austrália: 8, Brasil: 9, Itália: 27\n",
      "                                            Portugal: 24, França: 44 \n",
      "O valor de p é: 0.4838432194194534\n",
      "Provável que não haja diferença\n"
     ]
    }
   ],
   "source": [
    "#test ANOVA\n",
    "\n",
    "query = \"\"\" SELECT country, rating \n",
    "            FROM ficha_tecnicav1 ft\n",
    "            INNER JOIN ratingv1 pr on ft.sku=pr.sku;\"\"\"\n",
    "\n",
    "bd = Postgresql(user='postgres' , password='bruno22#' , host= 'localhost', port= '5432', database = 'brunods')\n",
    "dataset_test = bd.retrieve_data(query=query)\n",
    "\n",
    "\n",
    "data1 = dataset_test.loc[dataset_test['country']== 'Argentina',:].rating\n",
    "data2 = dataset_test.loc[dataset_test['country']== 'Estados Unidos',:].rating\n",
    "data4 = dataset_test.loc[dataset_test['country']== 'Chile',:].rating\n",
    "data5 = dataset_test.loc[dataset_test['country']== 'Espanha',:].rating\n",
    "data6 = dataset_test.loc[dataset_test['country']== 'África do Sul',:].rating\n",
    "data7 = dataset_test.loc[dataset_test['country']== 'Uruguai',:].rating\n",
    "data8 = dataset_test.loc[dataset_test['country']== 'Austrália',:].rating\n",
    "data9 = dataset_test.loc[dataset_test['country']== 'Brasil',:].rating\n",
    "data10 = dataset_test.loc[dataset_test['country']== 'Itália',:].rating\n",
    "data11 = dataset_test.loc[dataset_test['country']== 'Portugal',:].rating\n",
    "data12 = dataset_test.loc[dataset_test['country']== 'França',:].rating\n",
    "\n",
    "print(f\"\"\"Tamanho original das distribuições: Argentina: {len(data1)}, \n",
    "                                            Estados Unidos: {len(data2)}, China: {len(data3)}, Chile: {len(data4)}, \n",
    "                                            Espanha: {len(data5)}, África do Sul: {len(data6)}, Uruguai: {len(data7)}, \n",
    "                                            Austrália: {len(data8)}, Brasil: {len(data9)}, Itália: {len(data10)}\n",
    "                                            Portugal: {len(data11)}, França: {len(data12)} \"\"\")\n",
    "\n",
    "\n",
    "\n",
    "stat, p = f_oneway(data1, data2, data4, data5, data6, data7, data8, data9, data10, data11, data12)\n",
    "print(f'O valor de p é: {p}')\n",
    "\n",
    "if p < 0.05:\n",
    "    print('Provável haver diferença')\n",
    "else:\n",
    "    print('Provável que não haja diferença')"
   ]
  },
  {
   "cell_type": "markdown",
   "metadata": {},
   "source": [
    "# Pergunta 2\n",
    "#### Existem diferenças significativas nos ratings por tipo de Vinho?\n",
    "\n",
    "- Hipotese nula - Todos os tipos de vinho não possuem diferenças siginificativas entre seus ratings.\n",
    "\n",
    "- Hipotese alternativa - Pelo menos um par de tipo de vinho possui diferença siginificativa em seus ratings. \n",
    "\n",
    "# Conclusão\n",
    "Valor de p abaixo de 0.05, existem evidências sufucientes para a refutar hipotese nula."
   ]
  },
  {
   "cell_type": "code",
   "execution_count": 70,
   "metadata": {},
   "outputs": [
    {
     "name": "stdout",
     "output_type": "stream",
     "text": [
      "Buscando os dados!!!\n",
      "Conexão com Postgresql fechada\n",
      "\n",
      "\n",
      "O valor de p é: 0.8153633082284559\n",
      "Provável que não haja diferença\n"
     ]
    }
   ],
   "source": [
    "#test ANOVA\n",
    "\n",
    "\n",
    "query = \"\"\" SELECT tipo, rating \n",
    "            FROM ficha_tecnicav1 ft\n",
    "            INNER JOIN ratingv1 pr on ft.sku=pr.sku;\"\"\"\n",
    "\n",
    "bd = Postgresql(user='postgres' , password='bruno22#' , host= 'localhost', port= '5432', database = 'brunods')\n",
    "dataset_test2 = bd.retrieve_data(query=query)\n",
    "\n",
    "\n",
    "data1 = dataset_test2.loc[dataset_test2['tipo'] == 'Tinto',:].rating\n",
    "data2 = dataset_test2.loc[dataset_test2['tipo'] == 'Espumante',:].rating\n",
    "data3 = dataset_test2.loc[dataset_test2['tipo'] == 'Branco',:].rating\n",
    "data4 = dataset_test2.loc[dataset_test2['tipo'] == 'Rosé',:].rating\n",
    "\n",
    "print('\\n')\n",
    "stat, p = f_oneway(data1, data2, data3, data4)\n",
    "print(f'O valor de p é: {p}')\n",
    "\n",
    "if p < 0.05:\n",
    "    print('Provável haver diferença')\n",
    "else:\n",
    "    print('Provável que não haja diferença')"
   ]
  },
  {
   "cell_type": "markdown",
   "metadata": {},
   "source": [
    "# Pergunta 3\n",
    " - Hiportese Nula: Não existe diferença siginificativa entre preços de sócio e não sócios.\n",
    " - HiposteseAlternativa: Existe diferença siginificativa entre os preços de sócio e não sócios.\n",
    " \n",
    "# Conclusão:\n",
    "Não existem evidências que levem a rejeição da hipostese nula"
   ]
  },
  {
   "cell_type": "code",
   "execution_count": 71,
   "metadata": {},
   "outputs": [
    {
     "name": "stdout",
     "output_type": "stream",
     "text": [
      "Buscando os dados!!!\n",
      "Conexão com Postgresql fechada\n",
      "\n",
      "\n",
      "Tamanho da amostra um é 671\n",
      "Tamanho da amostra um é 671\n",
      "\n",
      "\n",
      "O valor de p é: 0.35074506521549187\n",
      "Provável que não haja diferença\n"
     ]
    }
   ],
   "source": [
    "# diferença entre preço de socio e nao socio \n",
    "query = \"\"\" SELECT price_socio, price_nonsocio \n",
    "            FROM pricev1;\"\"\"\n",
    "\n",
    "bd = Postgresql(user='postgres' , password='bruno22#' , host= 'localhost', port= '5432', database = 'brunods')\n",
    "dataset_price_test = bd.retrieve_data(query=query)\n",
    "\n",
    "\n",
    "print('\\n')\n",
    "data1 = dataset_price_test['price_socio'].astype('float')\n",
    "print(f'Tamanho da amostra um é {len(data1)}')\n",
    "data2 = dataset_price_test['price_nonsocio'].astype('float')\n",
    "print(f'Tamanho da amostra um é {len(data2)}')\n",
    "print('\\n')      \n",
    "      \n",
    "stat, p = ttest_ind(data1, data2)\n",
    "print(f'O valor de p é: {p}')\n",
    "\n",
    "if p < 0.05:\n",
    "    print('Provável haver diferença')\n",
    "else:\n",
    "    print('Provável que não haja diferença')"
   ]
  },
  {
   "cell_type": "markdown",
   "metadata": {},
   "source": [
    "# Prices"
   ]
  },
  {
   "cell_type": "markdown",
   "metadata": {},
   "source": [
    "# Pergunta 4\n",
    " - Hipotese Nula: Não existe diferença siginificativa de preços por país.\n",
    " - Hipotese Alternativa: Existe diferença siginificativa de preços por país.\n",
    " ### Conclusão:\n",
    " Existem evidências suficientes para negar a a hipotese nula.\n",
    "\n",
    "# Pergunta 5 \n",
    " - Hipotese Nula: Não existe diferença siginificativa de preços por tipo de vinho.\n",
    " - Hipotese Alternativa: Existe diferença siginificativa de preços por tipo de vinho.\n",
    " ### Conclusão:\n",
    " Existem evidências suficientes para negar a a hipotese nula."
   ]
  },
  {
   "cell_type": "code",
   "execution_count": 73,
   "metadata": {},
   "outputs": [
    {
     "name": "stdout",
     "output_type": "stream",
     "text": [
      "Buscando os dados!!!\n",
      "Conexão com Postgresql fechada\n"
     ]
    }
   ],
   "source": [
    "# Preço_Socio por pais - Vinhos Frnaceses são os mais caros!\n",
    "query = \"\"\" SELECT country, price_socio\n",
    "            FROM ficha_tecnicav1 ft\n",
    "            INNER JOIN pricev1 pr on ft.sku=pr.sku;\"\"\"\n",
    "\n",
    "bd = Postgresql(user='postgres' , password='bruno22#' , host= 'localhost', port= '5432', database = 'brunods')\n",
    "dataset_price_test2 = bd.retrieve_data(query=query)\n",
    "dataset_price_test2.price_socio = dataset_price_test2.price_socio.astype('float') \n",
    "\n",
    "avgs = dataset_price_test2.groupby('country').mean()"
   ]
  },
  {
   "cell_type": "code",
   "execution_count": 74,
   "metadata": {},
   "outputs": [
    {
     "name": "stdout",
     "output_type": "stream",
     "text": [
      "O valor de p é: 7.057869072901634e-07\n",
      "Provável haver diferença\n"
     ]
    }
   ],
   "source": [
    "data1 = dataset_price_test2.loc[dataset_price_test2['country'] == 'Argentina',:].price_socio\n",
    "data2 = dataset_price_test2.loc[dataset_price_test2['country'] == 'Estados Unidos',:].price_socio\n",
    "data3 = dataset_price_test2.loc[dataset_price_test2['country'] == 'China',:].price_socio\n",
    "data4 = dataset_price_test2.loc[dataset_price_test2['country'] == 'Chile',:].price_socio\n",
    "data5 = dataset_price_test2.loc[dataset_price_test2['country'] == 'Espanha',:].price_socio\n",
    "data6 = dataset_price_test2.loc[dataset_price_test2['country'] == 'África do Sul',:].price_socio\n",
    "data7 = dataset_price_test2.loc[dataset_price_test2['country'] == 'Uruguai',:].price_socio\n",
    "data8 = dataset_price_test2.loc[dataset_price_test2['country'] == 'Austrália',:].price_socio\n",
    "data9 = dataset_price_test2.loc[dataset_price_test2['country'] == 'Brasil',:].price_socio\n",
    "data10 = dataset_price_test2.loc[dataset_price_test2['country'] == 'Itália',:].price_socio\n",
    "data11 = dataset_price_test2.loc[dataset_price_test2['country'] == 'Portugal',:].price_socio\n",
    "data12 = dataset_price_test2.loc[dataset_price_test2['country'] == 'França',:].price_socio\n",
    "\n",
    "stat, p = f_oneway(data1, data2, data3, data4, data5, data6, data7, data8, data9, data10, data11, data12)\n",
    "print(f'O valor de p é: {p}')\n",
    "\n",
    "if p < 0.05:\n",
    "    print('Provável haver diferença')\n",
    "else:\n",
    "    print('Provável que não haja diferença')"
   ]
  },
  {
   "cell_type": "code",
   "execution_count": 75,
   "metadata": {},
   "outputs": [
    {
     "name": "stdout",
     "output_type": "stream",
     "text": [
      "Buscando os dados!!!\n",
      "Conexão com Postgresql fechada\n",
      "O valor de p é: 0.04600308244119404\n",
      "Provável haver diferença\n"
     ]
    }
   ],
   "source": [
    "#Preço_Socio por tipo\n",
    "\n",
    "query = \"\"\" SELECT tipo, price_socio \n",
    "            FROM ficha_tecnicav1 ft\n",
    "            INNER JOIN pricev1 pr on ft.sku=pr.sku;\"\"\"\n",
    "\n",
    "bd = Postgresql(user='postgres' , password='bruno22#' , host= 'localhost', port= '5432', database = 'brunods')\n",
    "dataset_price_test2_tipo = bd.retrieve_data(query=query)\n",
    "dataset_price_test2_tipo.price_socio = dataset_price_test2_tipo.price_socio.astype('float') \n",
    "\n",
    "data1 = dataset_price_test2_tipo.loc[dataset_price_test2_tipo['tipo'] == 'Tinto',:].price_socio\n",
    "data2 = dataset_price_test2_tipo.loc[dataset_price_test2_tipo['tipo'] == 'Espumante',:].price_socio\n",
    "data3 = dataset_price_test2_tipo.loc[dataset_price_test2_tipo['tipo'] == 'Branco',:].price_socio\n",
    "data4 = dataset_price_test2_tipo.loc[dataset_price_test2_tipo['tipo'] == 'Rosé',:].price_socio\n",
    "\n",
    "stat, p = f_oneway(data1, data2, data3, data4)\n",
    "print(f'O valor de p é: {p}')\n",
    "\n",
    "if p < 0.05:\n",
    "    print('Provável haver diferença')\n",
    "else:\n",
    "    print('Provável que não haja diferença')"
   ]
  },
  {
   "cell_type": "code",
   "execution_count": 76,
   "metadata": {},
   "outputs": [
    {
     "name": "stdout",
     "output_type": "stream",
     "text": [
      "Buscando os dados!!!\n",
      "Conexão com Postgresql fechada\n",
      "O valor de p é: 5.904276807543449e-07\n",
      "Provável que não haja diferença\n"
     ]
    }
   ],
   "source": [
    "#Preço_nonSocio por pais\n",
    "query = \"\"\" SELECT country, price_nonsocio \n",
    "            FROM ficha_tecnicav1 ft\n",
    "            INNER JOIN pricev1 pr on ft.sku=pr.sku;\"\"\"\n",
    "\n",
    "bd = Postgresql(user='postgres' , password='bruno22#' , host= 'localhost', port= '5432', database = 'brunods')\n",
    "dataset_price_test3_country = bd.retrieve_data(query=query)\n",
    "dataset_price_test3_country.price_nonsocio = dataset_price_test3_country.price_nonsocio.astype('float')\n",
    "\n",
    "data1 = dataset_price_test3_country.loc[dataset_price_test3_country['country'] == 'Argentina',:].price_nonsocio\n",
    "data2 = dataset_price_test3_country.loc[dataset_price_test3_country['country'] == 'Estados Unidos',:].price_nonsocio\n",
    "data3 = dataset_price_test3_country.loc[dataset_price_test3_country['country'] == 'China',:].price_nonsocio\n",
    "data4 = dataset_price_test3_country.loc[dataset_price_test3_country['country'] == 'Chile',:].price_nonsocio\n",
    "data5 = dataset_price_test3_country.loc[dataset_price_test3_country['country'] == 'Espanha',:].price_nonsocio\n",
    "data6 = dataset_price_test3_country.loc[dataset_price_test3_country['country'] == 'África do Sul',:].price_nonsocio\n",
    "data7 = dataset_price_test3_country.loc[dataset_price_test3_country['country'] == 'Uruguai',:].price_nonsocio\n",
    "data8 = dataset_price_test3_country.loc[dataset_price_test3_country['country'] == 'Austrália',:].price_nonsocio\n",
    "data9 = dataset_price_test3_country.loc[dataset_price_test3_country['country'] == 'Brasil',:].price_nonsocio\n",
    "data10 = dataset_price_test3_country.loc[dataset_price_test3_country['country'] == 'Itália',:].price_nonsocio\n",
    "data11 = dataset_price_test3_country.loc[dataset_price_test3_country['country'] == 'Portugal',:].price_nonsocio\n",
    "data12 = dataset_price_test3_country.loc[dataset_price_test3_country['country'] == 'França',:].price_nonsocio\n",
    "\n",
    "stat, p = f_oneway(data1, data2, data3, data4, data5, data6, data7, data8, data9, data10, data11, data12)\n",
    "print(f'O valor de p é: {p}')\n",
    "\n",
    "if p > 0.05:\n",
    "    print('Provável haver diferença')\n",
    "else:\n",
    "    print('Provável que não haja diferença')"
   ]
  },
  {
   "cell_type": "code",
   "execution_count": 77,
   "metadata": {},
   "outputs": [
    {
     "name": "stdout",
     "output_type": "stream",
     "text": [
      "Buscando os dados!!!\n",
      "Conexão com Postgresql fechada\n",
      "O valor de p é: 0.04645567987878071\n",
      "Provável haver diferença\n"
     ]
    }
   ],
   "source": [
    "# Preço_nonSocio por tipo\n",
    "query = \"\"\" SELECT tipo, price_nonsocio \n",
    "            FROM ficha_tecnicav1 ft\n",
    "            INNER JOIN pricev1 pr on ft.sku=pr.sku;\"\"\"\n",
    "\n",
    "bd = Postgresql(user='postgres' , password='bruno22#' , host= 'localhost', port= '5432', database = 'brunods')\n",
    "dataset_price_test3 = bd.retrieve_data(query=query)\n",
    "dataset_price_test3.price_nonsocio = dataset_price_test3.price_nonsocio.astype('float') \n",
    "\n",
    "#Médias\n",
    "avgs = dataset_price_test3.groupby('tipo').mean()\n",
    "\n",
    "data1 = dataset_price_test3.loc[dataset_price_test3['tipo'] == 'Tinto',:].price_nonsocio\n",
    "data2 = dataset_price_test3.loc[dataset_price_test3['tipo'] == 'Espumante',:].price_nonsocio\n",
    "data3 = dataset_price_test3.loc[dataset_price_test3['tipo'] == 'Branco',:].price_nonsocio\n",
    "data4 = dataset_price_test3.loc[dataset_price_test3['tipo'] == 'Rosé',:].price_nonsocio\n",
    "\n",
    "\n",
    "stat, p = f_oneway(data1, data2, data3, data4)\n",
    "print(f'O valor de p é: {p}')\n",
    "\n",
    "if p < 0.05:\n",
    "    print('Provável haver diferença')\n",
    "else:\n",
    "    print('Provável que não haja diferença')"
   ]
  },
  {
   "cell_type": "code",
   "execution_count": null,
   "metadata": {},
   "outputs": [],
   "source": []
  }
 ],
 "metadata": {
  "kernelspec": {
   "display_name": "Python 3",
   "language": "python",
   "name": "python3"
  },
  "language_info": {
   "codemirror_mode": {
    "name": "ipython",
    "version": 3
   },
   "file_extension": ".py",
   "mimetype": "text/x-python",
   "name": "python",
   "nbconvert_exporter": "python",
   "pygments_lexer": "ipython3",
   "version": "3.7.6"
  }
 },
 "nbformat": 4,
 "nbformat_minor": 4
}
