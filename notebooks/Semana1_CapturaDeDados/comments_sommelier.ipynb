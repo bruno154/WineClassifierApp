{
 "cells": [
  {
   "cell_type": "code",
   "execution_count": 6,
   "metadata": {},
   "outputs": [],
   "source": [
    "import requests\n",
    "import psycopg2\n",
    "import numpy as np\n",
    "import pandas as pd\n",
    "from bs4 import BeautifulSoup\n",
    "from src.databases import Postgresql"
   ]
  },
  {
   "cell_type": "code",
   "execution_count": 7,
   "metadata": {},
   "outputs": [
    {
     "name": "stdout",
     "output_type": "stream",
     "text": [
      "Raspando pagina 10\n",
      "Raspando pagina 20\n",
      "Raspando pagina 30\n",
      "Raspando pagina 40\n",
      "Raspando pagina 50\n",
      "Raspando pagina 60\n",
      "Raspando pagina 70\n",
      "Raspando pagina 80\n"
     ]
    }
   ],
   "source": [
    "#lista de Vinhos\n",
    "lista = []\n",
    "lista_vinhos = []\n",
    "\n",
    "for i in range(1,84):\n",
    "\n",
    "    r = requests.get(f'https://www.wine.com.br/browse.ep?cID=100851&exibirEsgotados=false&pn={i}&listagem=horizontal&sorter=featuredProducts-desc&filters=cVINHOS')\n",
    "    soup = BeautifulSoup(r.content,'html.parser')\n",
    "    container = soup.find_all('div',{'class':'ProductDisplay-name'})\n",
    "    for col in container: # contém todos os vinhos\n",
    "        for art in col.find_all('a',href=True): #vinhos em cada coluna\n",
    "            lista = 'https://www.wine.com.br{}'.format(art['href'])\n",
    "            lista_vinhos.append(lista)\n",
    "            \n",
    "\n",
    "#Sku\n",
    "lst_sku=[]\n",
    "for i in range(1,84):\n",
    "    PAGE = f'https://www.wine.com.br/vinhos/cVINHOS-p{i}.html'\n",
    "    if i % 10 == 0:\n",
    "        print(f'Raspando pagina {i}')\n",
    "\n",
    "    resultado = requests.get(PAGE)\n",
    "    bs = BeautifulSoup(resultado.content, 'html.parser')\n",
    "    html_data = bs.find_all('div', {'class': 'ProductDisplay-name'})\n",
    "    sku = np.array([elem.a['data-product-sku'] for elem in html_data])\n",
    "    \n",
    "    for elem in html_data:\n",
    "        lst_sku.append(elem.a['data-product-sku'])"
   ]
  },
  {
   "cell_type": "code",
   "execution_count": 8,
   "metadata": {},
   "outputs": [],
   "source": [
    "#capturando os comentarios do sommelier\n",
    "comments_sommelier = []\n",
    "for i, j in enumerate(lista_vinhos):\n",
    "    \n",
    "    tag = j\n",
    "    resultado = requests.get(tag)\n",
    "    bs = BeautifulSoup(resultado.content, 'html.parser')\n",
    "    html_data = bs.find_all('div', {'class': 'ReadMore-text'}, limit=1)\n",
    "\n",
    "    for elem in html_data:\n",
    "        comments_sommelier.append({'sku':lst_sku[i], 'comments':elem.string})"
   ]
  },
  {
   "cell_type": "code",
   "execution_count": 9,
   "metadata": {},
   "outputs": [],
   "source": [
    "#Gerando os dataframes\n",
    "dataset_comments = pd.DataFrame(comments_sommelier)\n",
    "dataset_comments.set_index('sku', inplace= True)\n",
    "dataset_comments = dataset_comments.reset_index()"
   ]
  },
  {
   "cell_type": "code",
   "execution_count": 13,
   "metadata": {},
   "outputs": [
    {
     "name": "stdout",
     "output_type": "stream",
     "text": [
      "Tabela criada no postgresql com sucesso \n",
      "Conexão com Postgresql fechada\n"
     ]
    }
   ],
   "source": [
    "query = \"\"\" CREATE TABLE comments_sommelier ( sku TEXT,\n",
    "                                              comments VARCHAR(1000))  \"\"\"\n",
    "\n",
    "\n",
    "\n",
    "bd = Postgresql()\n",
    "bd.create_table(query=query, user='postgres' , password='bruno22#' , host= 'localhost', port= '5432', database = 'brunods')\n",
    "bd.insert_data(df = dataset_comments, tabela = ' comments_sommelier',user='postgres' , password='bruno22#' , host= 'localhost', port= '5432', database = 'brunods')"
   ]
  },
  {
   "cell_type": "code",
   "execution_count": 14,
   "metadata": {},
   "outputs": [
    {
     "data": {
      "text/html": [
       "<div>\n",
       "<style scoped>\n",
       "    .dataframe tbody tr th:only-of-type {\n",
       "        vertical-align: middle;\n",
       "    }\n",
       "\n",
       "    .dataframe tbody tr th {\n",
       "        vertical-align: top;\n",
       "    }\n",
       "\n",
       "    .dataframe thead th {\n",
       "        text-align: right;\n",
       "    }\n",
       "</style>\n",
       "<table border=\"1\" class=\"dataframe\">\n",
       "  <thead>\n",
       "    <tr style=\"text-align: right;\">\n",
       "      <th></th>\n",
       "      <th>sku</th>\n",
       "      <th>comments</th>\n",
       "    </tr>\n",
       "  </thead>\n",
       "  <tbody>\n",
       "    <tr>\n",
       "      <th>0</th>\n",
       "      <td>18479</td>\n",
       "      <td>\\nRosé francês frutado, leve, fresco e com doç...</td>\n",
       "    </tr>\n",
       "    <tr>\n",
       "      <th>1</th>\n",
       "      <td>3170</td>\n",
       "      <td>\\nCom notas de frutas brancas, mel, pão e ferm...</td>\n",
       "    </tr>\n",
       "    <tr>\n",
       "      <th>2</th>\n",
       "      <td>22807</td>\n",
       "      <td>\\n Pinot Noir da Borgonha com aromas de frutas...</td>\n",
       "    </tr>\n",
       "    <tr>\n",
       "      <th>3</th>\n",
       "      <td>22698</td>\n",
       "      <td>\\nUm dos mais nobres champagnes do mundo, o Mo...</td>\n",
       "    </tr>\n",
       "    <tr>\n",
       "      <th>4</th>\n",
       "      <td>22696</td>\n",
       "      <td>\\nO primeiro champagne para ser apreciado com ...</td>\n",
       "    </tr>\n",
       "  </tbody>\n",
       "</table>\n",
       "</div>"
      ],
      "text/plain": [
       "     sku                                           comments\n",
       "0  18479  \\nRosé francês frutado, leve, fresco e com doç...\n",
       "1   3170  \\nCom notas de frutas brancas, mel, pão e ferm...\n",
       "2  22807  \\n Pinot Noir da Borgonha com aromas de frutas...\n",
       "3  22698  \\nUm dos mais nobres champagnes do mundo, o Mo...\n",
       "4  22696  \\nO primeiro champagne para ser apreciado com ..."
      ]
     },
     "execution_count": 14,
     "metadata": {},
     "output_type": "execute_result"
    }
   ],
   "source": [
    "dataset_comments.head()"
   ]
  },
  {
   "cell_type": "code",
   "execution_count": null,
   "metadata": {},
   "outputs": [],
   "source": []
  }
 ],
 "metadata": {
  "kernelspec": {
   "display_name": "Python 3",
   "language": "python",
   "name": "python3"
  },
  "language_info": {
   "codemirror_mode": {
    "name": "ipython",
    "version": 3
   },
   "file_extension": ".py",
   "mimetype": "text/x-python",
   "name": "python",
   "nbconvert_exporter": "python",
   "pygments_lexer": "ipython3",
   "version": "3.7.6"
  }
 },
 "nbformat": 4,
 "nbformat_minor": 4
}
