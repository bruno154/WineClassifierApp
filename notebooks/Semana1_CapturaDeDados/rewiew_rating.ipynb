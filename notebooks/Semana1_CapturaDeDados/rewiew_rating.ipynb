{
 "cells": [
  {
   "cell_type": "code",
   "execution_count": 3,
   "metadata": {},
   "outputs": [],
   "source": [
    "import requests\n",
    "import numpy as np\n",
    "import pandas as pd\n",
    "from bs4 import BeautifulSoup\n",
    "from selenium import webdriver\n",
    "from src.databases import Postgresql"
   ]
  },
  {
   "cell_type": "markdown",
   "metadata": {},
   "source": [
    "# Criando lista de skus e urls"
   ]
  },
  {
   "cell_type": "code",
   "execution_count": 4,
   "metadata": {},
   "outputs": [
    {
     "name": "stdout",
     "output_type": "stream",
     "text": [
      "Raspando pagina 10\n",
      "Raspando pagina 20\n",
      "Raspando pagina 30\n",
      "Raspando pagina 40\n",
      "Raspando pagina 50\n",
      "Raspando pagina 60\n",
      "Raspando pagina 70\n",
      "Raspando pagina 80\n"
     ]
    }
   ],
   "source": [
    "#Sku\n",
    "lst_sku=[]\n",
    "for i in range(1,90):\n",
    "    PAGE = f'https://www.wine.com.br/vinhos/cVINHOS-p{i}.html'\n",
    "    if i % 10 == 0:\n",
    "        print(f'Raspando pagina {i}')\n",
    "\n",
    "    resultado = requests.get(PAGE)\n",
    "    bs = BeautifulSoup(resultado.content, 'html.parser')\n",
    "    html_data = bs.find_all('div', {'class': 'ProductDisplay-name'})\n",
    "    sku = np.array([elem.a['data-product-sku'] for elem in html_data])\n",
    "    \n",
    "    for elem in html_data:\n",
    "        lst_sku.append(elem.a['data-product-sku'])"
   ]
  },
  {
   "cell_type": "code",
   "execution_count": 5,
   "metadata": {},
   "outputs": [],
   "source": [
    "lista = []\n",
    "lista_vinhos = []\n",
    "\n",
    "for i in range(1,90):\n",
    "\n",
    "    r = requests.get(f'https://www.wine.com.br/browse.ep?cID=100851&exibirEsgotados=false&pn={i}&listagem=horizontal&sorter=featuredProducts-desc&filters=cVINHOS')\n",
    "    soup = BeautifulSoup(r.content,'html.parser')\n",
    "    container = soup.find_all('div',{'class':'ProductDisplay-name'})\n",
    "    for col in container: # contém todos os vinhos\n",
    "        for art in col.find_all('a',href=True): #vinhos em cada coluna\n",
    "            lista = 'https://www.wine.com.br{}'.format(art['href'])\n",
    "            lista_vinhos.append(lista)"
   ]
  },
  {
   "cell_type": "code",
   "execution_count": 6,
   "metadata": {},
   "outputs": [
    {
     "data": {
      "text/plain": [
       "['https://www.wine.com.br/vinhos/maison-le-star-rose-on-ice/prod18479.html',\n",
       " 'https://www.wine.com.br/vinhos/champagne-montaudon-brut/prod3170.html',\n",
       " 'https://www.wine.com.br/vinhos/ropiteau-pinot-noir-2017/prod22807.html']"
      ]
     },
     "execution_count": 6,
     "metadata": {},
     "output_type": "execute_result"
    }
   ],
   "source": [
    "lista_vinhos[0:3]"
   ]
  },
  {
   "cell_type": "markdown",
   "metadata": {},
   "source": [
    "# Extraindo Variáveis"
   ]
  },
  {
   "cell_type": "code",
   "execution_count": 7,
   "metadata": {},
   "outputs": [],
   "source": [
    "contagem = []\n",
    "for i, j in enumerate(lista_vinhos):\n",
    "    prods_url = j\n",
    "    resultado = requests.get(prods_url)\n",
    "    bs = BeautifulSoup(resultado.content, 'html.parser')\n",
    "    html_data_rating = bs.find_all('a',{'class': 'Rating-count'})\n",
    "    \n",
    "    for elem in html_data_rating:\n",
    "        if elem.attrs['href'] != \"#Comments\":\n",
    "            contagem.append({'sku':lst_sku[i],'contagem':elem.string.strip('()')})\n",
    "#price = pd.DataFrame(harmonizacao)"
   ]
  },
  {
   "cell_type": "code",
   "execution_count": 8,
   "metadata": {},
   "outputs": [
    {
     "data": {
      "text/plain": [
       "[{'sku': '18479', 'contagem': '40'},\n",
       " {'sku': '3170', 'contagem': '193'},\n",
       " {'sku': '21768', 'contagem': '14'}]"
      ]
     },
     "execution_count": 8,
     "metadata": {},
     "output_type": "execute_result"
    }
   ],
   "source": [
    "contagem[0:3]"
   ]
  },
  {
   "cell_type": "code",
   "execution_count": 10,
   "metadata": {},
   "outputs": [],
   "source": [
    "#Rating\n",
    "\n",
    "driver = webdriver.Firefox(executable_path='/usr/local/bin/geckodriver')\n",
    "dados_rating=[]      \n",
    "   \n",
    "\n",
    "for i in range(1,89):\n",
    "    PAGE = f'https://www.wine.com.br/vinhos/cVINHOS-p{i}.html'\n",
    "\n",
    "\n",
    "    driver.get(PAGE)  \n",
    "    resultado_rating = driver.find_elements_by_xpath(\"//*[@class='evaluation']\")\n",
    "    resultado_sku = driver.find_elements_by_xpath(\".//*[@class='ProductDisplay-content']//*[@class='js-productClick']\")\n",
    "    \n",
    "    for result_rating, result_sku in zip(resultado_rating,resultado_sku):\n",
    "        dados_rating.append({'rating':result_rating.text,'sku':result_sku.get_attribute('data-product-sku')})\n",
    "\n",
    "\n",
    "driver.quit()\n",
    "#df = pd.DataFrame(dados_rating)\n",
    "#df.to_csv('csv/rating.csv')"
   ]
  },
  {
   "cell_type": "code",
   "execution_count": 11,
   "metadata": {},
   "outputs": [
    {
     "data": {
      "text/plain": [
       "[{'rating': '3.5', 'sku': '18479'},\n",
       " {'rating': '4.5', 'sku': '3170'},\n",
       " {'rating': '4.5', 'sku': '22807'},\n",
       " {'rating': '4.5', 'sku': '22698'},\n",
       " {'rating': '4.0', 'sku': '21768'},\n",
       " {'rating': '4.0', 'sku': '22352'},\n",
       " {'rating': '5.0', 'sku': '11420'},\n",
       " {'rating': '5.0', 'sku': '22658'},\n",
       " {'rating': '4.5', 'sku': '22710'},\n",
       " {'rating': '3.0', 'sku': '23933'}]"
      ]
     },
     "execution_count": 11,
     "metadata": {},
     "output_type": "execute_result"
    }
   ],
   "source": [
    "dados_rating[0:10]"
   ]
  },
  {
   "cell_type": "code",
   "execution_count": 13,
   "metadata": {},
   "outputs": [],
   "source": [
    "#Awards\n",
    "driver = webdriver.Firefox(executable_path='/usr/local/bin/geckodriver')\n",
    "dados_awards=[]      \n",
    "   \n",
    "\n",
    "for i in range(1,90):\n",
    "    PAGE = f'https://www.wine.com.br/vinhos/cVINHOS-p{i}.html'\n",
    "\n",
    "    driver.get(PAGE)  \n",
    "    resultado_awards = driver.find_elements_by_xpath(\"//*[@class='ProductDisplay-new-awards col-xs-6']\")\n",
    "    resultado_sku = driver.find_elements_by_xpath(\".//*[@class='ProductDisplay-content']//*[@class='js-productClick']\")\n",
    "    for result_awards, result_sku in zip(resultado_awards,resultado_sku):\n",
    "        dados_awards.append({'Awards':result_awards.text, 'sku':result_sku.get_attribute('data-product-sku')})\n",
    "\n",
    "driver.quit()\n",
    "#df = pd.DataFrame(dados_awards, columns = ['Awards'])\n",
    "#df.to_csv('csv/awards.csv')"
   ]
  },
  {
   "cell_type": "code",
   "execution_count": 48,
   "metadata": {},
   "outputs": [
    {
     "data": {
      "text/plain": [
       "[{'Awards': '', 'sku': '3170'},\n",
       " {'Awards': '', 'sku': '22842'},\n",
       " {'Awards': '', 'sku': '22820'}]"
      ]
     },
     "execution_count": 48,
     "metadata": {},
     "output_type": "execute_result"
    }
   ],
   "source": [
    "dados_awards[0:3]"
   ]
  },
  {
   "cell_type": "code",
   "execution_count": 14,
   "metadata": {},
   "outputs": [],
   "source": [
    "ratingCount = pd.DataFrame(contagem).set_index('sku')\n",
    "rating = pd.DataFrame(dados_rating).set_index('sku')\n",
    "awards = pd.DataFrame(dados_awards).set_index('sku')"
   ]
  },
  {
   "cell_type": "code",
   "execution_count": 51,
   "metadata": {},
   "outputs": [
    {
     "data": {
      "text/html": [
       "<div>\n",
       "<style scoped>\n",
       "    .dataframe tbody tr th:only-of-type {\n",
       "        vertical-align: middle;\n",
       "    }\n",
       "\n",
       "    .dataframe tbody tr th {\n",
       "        vertical-align: top;\n",
       "    }\n",
       "\n",
       "    .dataframe thead th {\n",
       "        text-align: right;\n",
       "    }\n",
       "</style>\n",
       "<table border=\"1\" class=\"dataframe\">\n",
       "  <thead>\n",
       "    <tr style=\"text-align: right;\">\n",
       "      <th></th>\n",
       "      <th>sku</th>\n",
       "      <th>contagem</th>\n",
       "      <th>rating</th>\n",
       "      <th>Awards</th>\n",
       "    </tr>\n",
       "  </thead>\n",
       "  <tbody>\n",
       "    <tr>\n",
       "      <th>0</th>\n",
       "      <td>18479</td>\n",
       "      <td>40</td>\n",
       "      <td>3.5</td>\n",
       "      <td></td>\n",
       "    </tr>\n",
       "    <tr>\n",
       "      <th>1</th>\n",
       "      <td>3170</td>\n",
       "      <td>193</td>\n",
       "      <td>4.5</td>\n",
       "      <td></td>\n",
       "    </tr>\n",
       "    <tr>\n",
       "      <th>2</th>\n",
       "      <td>21768</td>\n",
       "      <td>14</td>\n",
       "      <td>4.0</td>\n",
       "      <td>2</td>\n",
       "    </tr>\n",
       "    <tr>\n",
       "      <th>3</th>\n",
       "      <td>22352</td>\n",
       "      <td>15</td>\n",
       "      <td>4.0</td>\n",
       "      <td></td>\n",
       "    </tr>\n",
       "    <tr>\n",
       "      <th>4</th>\n",
       "      <td>11420</td>\n",
       "      <td>27</td>\n",
       "      <td>5.0</td>\n",
       "      <td></td>\n",
       "    </tr>\n",
       "  </tbody>\n",
       "</table>\n",
       "</div>"
      ],
      "text/plain": [
       "     sku contagem rating Awards\n",
       "0  18479       40    3.5       \n",
       "1   3170      193    4.5       \n",
       "2  21768       14    4.0      2\n",
       "3  22352       15    4.0       \n",
       "4  11420       27    5.0       "
      ]
     },
     "execution_count": 51,
     "metadata": {},
     "output_type": "execute_result"
    }
   ],
   "source": [
    "df = ratingCount.join([rating, awards], how = 'left')\n",
    "df = df.reset_index()\n",
    "df.head()"
   ]
  },
  {
   "cell_type": "code",
   "execution_count": 50,
   "metadata": {},
   "outputs": [
    {
     "name": "stdout",
     "output_type": "stream",
     "text": [
      "Tabela criada no postgresql com sucesso \n",
      "Conexão com Postgresql fechada\n"
     ]
    }
   ],
   "source": [
    "query = \"\"\" CREATE TABLE ratingv1 (sku          TEXT,\n",
    "                                 contagem     INT,\n",
    "                                 rating       REAL,\n",
    "                                 Awards       TEXT) \"\"\"\n",
    "\n",
    "\n",
    "\n",
    "bd = Postgresql()\n",
    "bd.create_table(query=query,user='postgres' , password='bruno22#' , host= 'localhost', port= '5432', database = 'brunods')\n",
    "bd.insert_data(df = df, tabela = ' ratingv1',user='postgres' , password='bruno22#' , host= 'localhost', port= '5432', database = 'brunods')"
   ]
  },
  {
   "cell_type": "code",
   "execution_count": null,
   "metadata": {},
   "outputs": [],
   "source": []
  }
 ],
 "metadata": {
  "kernelspec": {
   "display_name": "Python 3",
   "language": "python",
   "name": "python3"
  },
  "language_info": {
   "codemirror_mode": {
    "name": "ipython",
    "version": 3
   },
   "file_extension": ".py",
   "mimetype": "text/x-python",
   "name": "python",
   "nbconvert_exporter": "python",
   "pygments_lexer": "ipython3",
   "version": "3.7.6"
  }
 },
 "nbformat": 4,
 "nbformat_minor": 4
}
