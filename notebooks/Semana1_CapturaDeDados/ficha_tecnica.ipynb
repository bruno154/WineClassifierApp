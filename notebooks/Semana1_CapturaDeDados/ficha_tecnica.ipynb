{
 "cells": [
  {
   "cell_type": "code",
   "execution_count": 4,
   "metadata": {},
   "outputs": [],
   "source": [
    "import requests\n",
    "import psycopg2\n",
    "import numpy as np\n",
    "import pandas as pd\n",
    "from bs4 import BeautifulSoup\n",
    "from src.databases import Postgresql"
   ]
  },
  {
   "cell_type": "markdown",
   "metadata": {},
   "source": [
    "# Criando um lista de skus e de urls"
   ]
  },
  {
   "cell_type": "code",
   "execution_count": 5,
   "metadata": {},
   "outputs": [
    {
     "name": "stdout",
     "output_type": "stream",
     "text": [
      "Raspando pagina 10\n",
      "Raspando pagina 20\n",
      "Raspando pagina 30\n",
      "Raspando pagina 40\n",
      "Raspando pagina 50\n",
      "Raspando pagina 60\n",
      "Raspando pagina 70\n",
      "Raspando pagina 80\n"
     ]
    }
   ],
   "source": [
    "#Sku\n",
    "lst_sku=[]\n",
    "for i in range(1,90):\n",
    "    PAGE = f'https://www.wine.com.br/vinhos/cVINHOS-p{i}.html'\n",
    "    if i % 10 == 0:\n",
    "        print(f'Raspando pagina {i}')\n",
    "\n",
    "    resultado = requests.get(PAGE)\n",
    "    bs = BeautifulSoup(resultado.content, 'html.parser')\n",
    "    html_data = bs.find_all('div', {'class': 'ProductDisplay-name'})\n",
    "    sku = np.array([elem.a['data-product-sku'] for elem in html_data])\n",
    "    \n",
    "    for elem in html_data:\n",
    "        lst_sku.append(elem.a['data-product-sku'])"
   ]
  },
  {
   "cell_type": "code",
   "execution_count": 6,
   "metadata": {},
   "outputs": [],
   "source": [
    "lista = []\n",
    "lista_vinhos = []\n",
    "\n",
    "for i in range(1,90):\n",
    "\n",
    "    r = requests.get(f'https://www.wine.com.br/browse.ep?cID=100851&exibirEsgotados=false&pn={i}&listagem=horizontal&sorter=featuredProducts-desc&filters=cVINHOS')\n",
    "    soup = BeautifulSoup(r.content,'html.parser')\n",
    "    container = soup.find_all('div',{'class':'ProductDisplay-name'})\n",
    "    for col in container: # contém todos os vinhos\n",
    "        for art in col.find_all('a',href=True): #vinhos em cada coluna\n",
    "            lista = 'https://www.wine.com.br{}'.format(art['href'])\n",
    "            lista_vinhos.append(lista)"
   ]
  },
  {
   "cell_type": "code",
   "execution_count": 7,
   "metadata": {},
   "outputs": [
    {
     "data": {
      "text/plain": [
       "['https://www.wine.com.br/vinhos/maison-le-star-rose-on-ice/prod18479.html',\n",
       " 'https://www.wine.com.br/vinhos/champagne-montaudon-brut/prod3170.html',\n",
       " 'https://www.wine.com.br/vinhos/ropiteau-pinot-noir-2017/prod22807.html']"
      ]
     },
     "execution_count": 7,
     "metadata": {},
     "output_type": "execute_result"
    }
   ],
   "source": [
    "lista_vinhos[0:3]"
   ]
  },
  {
   "cell_type": "markdown",
   "metadata": {},
   "source": [
    "# Extraindo Variáveis"
   ]
  },
  {
   "cell_type": "code",
   "execution_count": 8,
   "metadata": {},
   "outputs": [],
   "source": [
    "#script\n",
    "tipo = []\n",
    "uva = []\n",
    "country = []\n",
    "region = []\n",
    "vinicola = []\n",
    "teor = []\n",
    "amadurecimento = []\n",
    "classificacao = []\n",
    "safra = []\n",
    "visual = []\n",
    "ofativo = []\n",
    "gustativo = []\n",
    "temperatura = []\n",
    "potencial_guarda = []\n",
    "\n",
    "for i, j in enumerate(lista_vinhos):\n",
    "    prods_url = j\n",
    "    resultado = requests.get(prods_url)\n",
    "    bs = BeautifulSoup(resultado.content, 'html.parser')\n",
    "    html_data = bs.find_all('div', {'class': 'Right'}, limit=1)\n",
    "    html_data_country = bs.find_all('li',{'class':'PageHeader-tag'}, limit=1)\n",
    "    html_data_region = bs.find_all('label',{'class':\"Breadcrumb-item\"})\n",
    "    html_data_vinicola = bs.find_all('div',{'class':\"col-xs-8 col-sm-12 TechnicalDetails-description TechnicalDetails-description--winery\"})\n",
    "    html_data_teor = bs.find_all('div',{'class':\"col-xs-8 col-sm-12 TechnicalDetails-description TechnicalDetails-description--alcoholic_strength\"})\n",
    "    html_data_amadure = bs.find_all('div',{'class':\"col-xs-8 col-sm-12 TechnicalDetails-description TechnicalDetails-description--ageing\"})\n",
    "    html_data_safra = bs.find_all('div',{'class': 'col-xs-8 col-sm-12 TechnicalDetails-description TechnicalDetails-description--harvest'})\n",
    "    html_data_class = bs.find_all('div',{'col-xs-8 col-sm-12 TechnicalDetails-description TechnicalDetails-description--classification'})\n",
    "    html_data_visual = bs.find_all('div',{'col-xs-8 col-sm-12 TechnicalDetails-description TechnicalDetails-description--appearance'})\n",
    "    html_data_ofativo = bs.find_all('div',{'col-xs-8 col-sm-12 TechnicalDetails-description TechnicalDetails-description--aroma'})\n",
    "    html_data_gustativo = bs.find_all('div',{'col-xs-8 col-sm-12 TechnicalDetails-description TechnicalDetails-description--taste'})\n",
    "    html_data_temp_guarda = bs.find_all('div',{'col-xs-8 col-sm-12 TechnicalDetails-description TechnicalDetails-description--temperature'})\n",
    " \n",
    "    for elem in html_data:\n",
    "        tipo.append({'sku':lst_sku[i], 'tipo':elem.dt.string})\n",
    "        uva.append({'sku':lst_sku[i],'uva':elem.dd.string})\n",
    "        \n",
    "    for elem in html_data_country:\n",
    "        country.append({'sku':lst_sku[i],'country':elem.string})\n",
    "    \n",
    "    for elem in html_data_region:\n",
    "        region.append({'sku':lst_sku[i], 'region':elem.string})\n",
    "        \n",
    "    for elem in html_data_vinicola:\n",
    "        vinicola.append({'sku':lst_sku[i],'vinicola':elem.dd.string})\n",
    "        \n",
    "    for elem in html_data_teor:\n",
    "        teor.append({'sku':lst_sku[i], 'teor_alcoolico':elem.dd.string})\n",
    "    \n",
    "    for elem in html_data_amadure:\n",
    "        amadurecimento.append({'sku':lst_sku[i],'amadurecimento':elem.dd.string})\n",
    "        \n",
    "    for elem in html_data_class:\n",
    "        classificacao.append({'sku':lst_sku[i],'classificacao':elem.dd.string})\n",
    "        \n",
    "    for elem in html_data_safra:\n",
    "        safra.append({'sku':lst_sku[i],'safra':elem.dd.string})\n",
    "    \n",
    "    for elem in html_data_visual:\n",
    "        visual.append({'sku':lst_sku[i],'visual':elem.dd.string})\n",
    "    \n",
    "    for elem in html_data_ofativo:\n",
    "        ofativo.append({'sku':lst_sku[i],'ofativo':elem.dd.string})\n",
    "        \n",
    "    for elem in html_data_gustativo:\n",
    "        gustativo.append({'sku':lst_sku[i],'gustativo':elem.dd.string})\n",
    "    \n",
    "    for elem in html_data_temp_guarda:\n",
    "        if elem.dt.string == 'Temperatura de serviço':\n",
    "            temperatura.append({'sku':lst_sku[i],'temperatura':elem.dd.string})\n",
    "        elif elem.dt.string == 'Potencial de guarda':\n",
    "            potencial_guarda.append({'sku':lst_sku[i],'potencial_guarda':elem.dd.string})\n",
    "\n",
    "\n",
    "#Dataset principal\n",
    "#df_temp = np.column_stack((lst_sku,tipo, uva,country,region,vinicola,teor, amadurecimento, classificacao, safra,visual,ofativo,gustativo,temperatura,potencial_guarda))\n",
    "#dataset_1 = pd.DataFrame(df_temp, columns=['sku','tipo','uva','country','region','vinicola','teor_alcolico', 'amadurecimento', 'classificacao', 'safra',\n",
    "                                            #'visual','ofativo','gustativo','temperatura','potencial_guarda'])\n",
    "\n",
    "#Gerando os dataframes\n",
    "dataset_tipo = pd.DataFrame(tipo)\n",
    "dataset_tipo.set_index('sku', inplace= True)\n",
    "\n",
    "dataset_uva = pd.DataFrame(uva)\n",
    "dataset_uva.set_index('sku', inplace= True)\n",
    "\n",
    "dataset_country = pd.DataFrame(country)\n",
    "dataset_country.set_index('sku', inplace= True)\n",
    "\n",
    "dataset_region = pd.DataFrame(region)\n",
    "dataset_region.set_index('sku', inplace= True)\n",
    "\n",
    "dataset_vinicola = pd.DataFrame(vinicola)\n",
    "dataset_vinicola.set_index('sku', inplace= True)\n",
    "\n",
    "dataset_teor = pd.DataFrame(teor)\n",
    "dataset_teor.set_index('sku', inplace= True)\n",
    "\n",
    "dataset_amadurecimento = pd.DataFrame(amadurecimento)\n",
    "dataset_amadurecimento.set_index('sku', inplace= True)\n",
    "\n",
    "dataset_classificacao = pd.DataFrame(classificacao)\n",
    "dataset_classificacao.set_index('sku', inplace= True)\n",
    "\n",
    "dataset_safra = pd.DataFrame(safra)\n",
    "dataset_safra.set_index('sku', inplace= True)\n",
    "\n",
    "dataset_visual = pd.DataFrame(visual)\n",
    "dataset_visual.set_index('sku', inplace= True)\n",
    "\n",
    "dataset_ofativo = pd.DataFrame(ofativo)\n",
    "dataset_ofativo.set_index('sku', inplace= True)\n",
    "\n",
    "dataset_gustativo = pd.DataFrame(gustativo)\n",
    "dataset_gustativo.set_index('sku', inplace= True)\n",
    "\n",
    "dataset_temperatura = pd.DataFrame(temperatura)\n",
    "dataset_temperatura.set_index('sku', inplace= True)\n",
    "\n",
    "dataset_potencial_guarda = pd.DataFrame(potencial_guarda)\n",
    "dataset_potencial_guarda.set_index('sku', inplace= True)"
   ]
  },
  {
   "cell_type": "code",
   "execution_count": 9,
   "metadata": {},
   "outputs": [],
   "source": [
    "df = dataset_tipo.join([dataset_uva, dataset_country, dataset_region, \n",
    "                dataset_vinicola, dataset_teor, dataset_amadurecimento, dataset_classificacao, \n",
    "                dataset_safra, dataset_visual, dataset_ofativo, dataset_gustativo, dataset_temperatura, dataset_potencial_guarda], how = 'inner')\n",
    "df = df.reset_index()"
   ]
  },
  {
   "cell_type": "code",
   "execution_count": 12,
   "metadata": {},
   "outputs": [
    {
     "name": "stdout",
     "output_type": "stream",
     "text": [
      "Tabela criada no postgresql com sucesso \n",
      "Conexão com Postgresql fechada\n"
     ]
    }
   ],
   "source": [
    "query = \"\"\" CREATE TABLE ficha_tecnicav1 ( sku TEXT,\n",
    "                                            tipo               TEXT,\n",
    "                                            uva                TEXT,\n",
    "                                            country            TEXT,\n",
    "                                            region             TEXT,\n",
    "                                            vinicola           TEXT,\n",
    "                                            teor_alcoolico     TEXT,\n",
    "                                            amadurecimento     TEXT,\n",
    "                                            classificacao      TEXT,\n",
    "                                            safra              TEXT,\n",
    "                                            visual             TEXT,\n",
    "                                            ofativo            TEXT,\n",
    "                                            gustativo          TEXT,\n",
    "                                            temperatura        TEXT,\n",
    "                                            potencial_guarda   TEXT)  \"\"\"\n",
    "\n",
    "\n",
    "\n",
    "bd = Postgresql()\n",
    "bd.create_table(query=query,user='postgres' , password='bruno22#' , host= 'localhost', port= '5432', database = 'brunods')\n",
    "bd.insert_data(df = df, tabela = ' ficha_tecnicav1',user='postgres' , password='bruno22#' , host= 'localhost', port= '5432', database = 'brunods')"
   ]
  },
  {
   "cell_type": "code",
   "execution_count": null,
   "metadata": {},
   "outputs": [],
   "source": []
  }
 ],
 "metadata": {
  "kernelspec": {
   "display_name": "Python 3.8.2 64-bit ('venv-ds-38': conda)",
   "language": "python",
   "name": "python38264bitvenvds38conda3f45df97c22b4399879b2f46054e6fe7"
  },
  "language_info": {
   "codemirror_mode": {
    "name": "ipython",
    "version": 3
   },
   "file_extension": ".py",
   "mimetype": "text/x-python",
   "name": "python",
   "nbconvert_exporter": "python",
   "pygments_lexer": "ipython3",
   "version": "3.8.2"
  }
 },
 "nbformat": 4,
 "nbformat_minor": 4
}
