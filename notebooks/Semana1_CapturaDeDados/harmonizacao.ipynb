{
 "cells": [
  {
   "cell_type": "code",
   "execution_count": 1,
   "metadata": {},
   "outputs": [],
   "source": [
    "import requests\n",
    "import numpy as np\n",
    "import pandas as pd\n",
    "import psycopg2\n",
    "from bs4 import BeautifulSoup\n",
    "from src.databases import Postgresql"
   ]
  },
  {
   "cell_type": "markdown",
   "metadata": {},
   "source": [
    "# Criando lista de skus e urls"
   ]
  },
  {
   "cell_type": "code",
   "execution_count": 2,
   "metadata": {},
   "outputs": [
    {
     "name": "stdout",
     "output_type": "stream",
     "text": [
      "Raspando pagina 10\n",
      "Raspando pagina 20\n",
      "Raspando pagina 30\n",
      "Raspando pagina 40\n",
      "Raspando pagina 50\n",
      "Raspando pagina 60\n",
      "Raspando pagina 70\n",
      "Raspando pagina 80\n"
     ]
    }
   ],
   "source": [
    "#Sku\n",
    "lst_sku=[]\n",
    "for i in range(1,84):\n",
    "    PAGE = f'https://www.wine.com.br/vinhos/cVINHOS-p{i}.html'\n",
    "    if i % 10 == 0:\n",
    "        print(f'Raspando pagina {i}')\n",
    "\n",
    "    resultado = requests.get(PAGE)\n",
    "    bs = BeautifulSoup(resultado.content, 'html.parser')\n",
    "    html_data = bs.find_all('div', {'class': 'ProductDisplay-name'})\n",
    "    sku = np.array([elem.a['data-product-sku'] for elem in html_data])\n",
    "    \n",
    "    for elem in html_data:\n",
    "        lst_sku.append(elem.a['data-product-sku'])"
   ]
  },
  {
   "cell_type": "code",
   "execution_count": 3,
   "metadata": {},
   "outputs": [],
   "source": [
    "lista = []\n",
    "lista_vinhos = []\n",
    "\n",
    "for i in range(1,84):\n",
    "\n",
    "    r = requests.get(f'https://www.wine.com.br/browse.ep?cID=100851&exibirEsgotados=false&pn={i}&listagem=horizontal&sorter=featuredProducts-desc&filters=cVINHOS')\n",
    "    soup = BeautifulSoup(r.content,'html.parser')\n",
    "    container = soup.find_all('div',{'class':'ProductDisplay-name'})\n",
    "    for col in container: # contém todos os vinhos\n",
    "        for art in col.find_all('a',href=True): #vinhos em cada coluna\n",
    "            lista = 'https://www.wine.com.br{}'.format(art['href'])\n",
    "            lista_vinhos.append(lista)"
   ]
  },
  {
   "cell_type": "code",
   "execution_count": 4,
   "metadata": {},
   "outputs": [
    {
     "data": {
      "text/plain": [
       "['https://www.wine.com.br/vinhos/maison-le-star-rose-on-ice/prod18479.html',\n",
       " 'https://www.wine.com.br/vinhos/champagne-montaudon-brut/prod3170.html',\n",
       " 'https://www.wine.com.br/vinhos/ropiteau-pinot-noir-2017/prod22807.html']"
      ]
     },
     "execution_count": 4,
     "metadata": {},
     "output_type": "execute_result"
    }
   ],
   "source": [
    "lista_vinhos[0:3]"
   ]
  },
  {
   "cell_type": "markdown",
   "metadata": {},
   "source": [
    "# Extraindo Variavel"
   ]
  },
  {
   "cell_type": "code",
   "execution_count": 5,
   "metadata": {},
   "outputs": [],
   "source": [
    "harmonizacao = []\n",
    "for i, j in enumerate(lista_vinhos):\n",
    "    prods_url = j\n",
    "    resultado = requests.get(prods_url)\n",
    "    bs = BeautifulSoup(resultado.content, 'html.parser')\n",
    "    html_data_harm = bs.find_all('article',{'class': 'TechnicalDetails-matching'})\n",
    "    \n",
    "    for elem in html_data_harm:\n",
    "        harmonizacao.append({'sku':lst_sku[i],'Harmonizacao':elem.dd.string})\n",
    "\n",
    "dataset_harmonizacao = pd.DataFrame(harmonizacao)"
   ]
  },
  {
   "cell_type": "code",
   "execution_count": 6,
   "metadata": {},
   "outputs": [
    {
     "data": {
      "text/html": [
       "<div>\n",
       "<style scoped>\n",
       "    .dataframe tbody tr th:only-of-type {\n",
       "        vertical-align: middle;\n",
       "    }\n",
       "\n",
       "    .dataframe tbody tr th {\n",
       "        vertical-align: top;\n",
       "    }\n",
       "\n",
       "    .dataframe thead th {\n",
       "        text-align: right;\n",
       "    }\n",
       "</style>\n",
       "<table border=\"1\" class=\"dataframe\">\n",
       "  <thead>\n",
       "    <tr style=\"text-align: right;\">\n",
       "      <th></th>\n",
       "      <th>sku</th>\n",
       "      <th>Harmonizacao</th>\n",
       "    </tr>\n",
       "  </thead>\n",
       "  <tbody>\n",
       "    <tr>\n",
       "      <th>0</th>\n",
       "      <td>18479</td>\n",
       "      <td>Salada de frutos do mar, bruschettas e tapas, ...</td>\n",
       "    </tr>\n",
       "    <tr>\n",
       "      <th>1</th>\n",
       "      <td>3170</td>\n",
       "      <td>Ostras, salmão defumado, robalo grelhado com p...</td>\n",
       "    </tr>\n",
       "    <tr>\n",
       "      <th>2</th>\n",
       "      <td>22807</td>\n",
       "      <td>Polenta mole com ragu de linguiça e cogumelos,...</td>\n",
       "    </tr>\n",
       "    <tr>\n",
       "      <th>3</th>\n",
       "      <td>22698</td>\n",
       "      <td>Camarões grelhados, lagosta, carpaccio, tartar...</td>\n",
       "    </tr>\n",
       "    <tr>\n",
       "      <th>4</th>\n",
       "      <td>21768</td>\n",
       "      <td>Boeuf Bourguignon, lombo de cordeiro ao molho ...</td>\n",
       "    </tr>\n",
       "    <tr>\n",
       "      <th>...</th>\n",
       "      <td>...</td>\n",
       "      <td>...</td>\n",
       "    </tr>\n",
       "    <tr>\n",
       "      <th>860</th>\n",
       "      <td>22659</td>\n",
       "      <td>Arroz de pato, lombo assado, batata, galeto as...</td>\n",
       "    </tr>\n",
       "    <tr>\n",
       "      <th>861</th>\n",
       "      <td>22659</td>\n",
       "      <td>Carne vermelha, costela ao molho barbecue, esc...</td>\n",
       "    </tr>\n",
       "    <tr>\n",
       "      <th>862</th>\n",
       "      <td>22659</td>\n",
       "      <td>Costela bovina assada com especiarias, stinco ...</td>\n",
       "    </tr>\n",
       "    <tr>\n",
       "      <th>863</th>\n",
       "      <td>19479</td>\n",
       "      <td>Costela de porco ao forno, salada com queijo d...</td>\n",
       "    </tr>\n",
       "    <tr>\n",
       "      <th>864</th>\n",
       "      <td>20893</td>\n",
       "      <td>Iscas de filé-mignon, penne à bolonhesa, risot...</td>\n",
       "    </tr>\n",
       "  </tbody>\n",
       "</table>\n",
       "<p>865 rows × 2 columns</p>\n",
       "</div>"
      ],
      "text/plain": [
       "       sku                                       Harmonizacao\n",
       "0    18479  Salada de frutos do mar, bruschettas e tapas, ...\n",
       "1     3170  Ostras, salmão defumado, robalo grelhado com p...\n",
       "2    22807  Polenta mole com ragu de linguiça e cogumelos,...\n",
       "3    22698  Camarões grelhados, lagosta, carpaccio, tartar...\n",
       "4    21768  Boeuf Bourguignon, lombo de cordeiro ao molho ...\n",
       "..     ...                                                ...\n",
       "860  22659  Arroz de pato, lombo assado, batata, galeto as...\n",
       "861  22659  Carne vermelha, costela ao molho barbecue, esc...\n",
       "862  22659  Costela bovina assada com especiarias, stinco ...\n",
       "863  19479  Costela de porco ao forno, salada com queijo d...\n",
       "864  20893  Iscas de filé-mignon, penne à bolonhesa, risot...\n",
       "\n",
       "[865 rows x 2 columns]"
      ]
     },
     "execution_count": 6,
     "metadata": {},
     "output_type": "execute_result"
    }
   ],
   "source": [
    "dataset_harmonizacao"
   ]
  },
  {
   "cell_type": "code",
   "execution_count": 8,
   "metadata": {},
   "outputs": [
    {
     "name": "stdout",
     "output_type": "stream",
     "text": [
      "Tabela criada no postgresql com sucesso \n",
      "Conexão com Postgresql fechada\n"
     ]
    }
   ],
   "source": [
    "query = \"\"\" CREATE TABLE harmonizacaov1 ( sku TEXT,\n",
    "                                            harmonizacao TEXT)  \"\"\"\n",
    "\n",
    "\n",
    "\n",
    "bd = Postgresql()\n",
    "bd.create_table(query=query,user='postgres' , password='bruno22#' , host= 'localhost', port= '5432', database = 'brunods')\n",
    "bd.insert_data(df = dataset_harmonizacao, tabela = ' harmonizacaov1',user='postgres' , password='bruno22#' , host= 'localhost', port= '5432', database = 'brunods')"
   ]
  },
  {
   "cell_type": "code",
   "execution_count": null,
   "metadata": {},
   "outputs": [],
   "source": []
  }
 ],
 "metadata": {
  "kernelspec": {
   "display_name": "Python 3.8.2 64-bit ('venv-ds-38': conda)",
   "language": "python",
   "name": "python38264bitvenvds38conda3f45df97c22b4399879b2f46054e6fe7"
  },
  "language_info": {
   "codemirror_mode": {
    "name": "ipython",
    "version": 3
   },
   "file_extension": ".py",
   "mimetype": "text/x-python",
   "name": "python",
   "nbconvert_exporter": "python",
   "pygments_lexer": "ipython3",
   "version": "3.8.2"
  }
 },
 "nbformat": 4,
 "nbformat_minor": 4
}
