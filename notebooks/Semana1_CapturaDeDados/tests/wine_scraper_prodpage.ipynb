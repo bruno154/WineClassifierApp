{
 "cells": [
  {
   "cell_type": "code",
   "execution_count": 44,
   "metadata": {},
   "outputs": [],
   "source": [
    "import requests\n",
    "from bs4 import BeautifulSoup\n",
    "from selenium import webdriver\n",
    "import unicodedata\n",
    "import re\n",
    "import numpy as np\n",
    "import time\n",
    "import pandas as pd\n",
    "#from src.Utils import merge_csv_folder"
   ]
  },
  {
   "cell_type": "code",
   "execution_count": 5,
   "metadata": {},
   "outputs": [],
   "source": [
    "#Funções Auxiliares\n",
    "\n",
    "def get_url(url, driver):\n",
    "    urlpage = url\n",
    "    driver.get(urlpage)\n",
    "    time.sleep(30)\n",
    "\n",
    "def quit_driver(driver):\n",
    "    driver.quit()\n",
    "\n",
    "def removerAcentosECaracteresEspeciais(palavra):\n",
    "\n",
    "    # Unicode normalize transforma um caracter em seu equivalente em latin.\n",
    "    nfkd = unicodedata.normalize('NFKD', palavra)\n",
    "    palavraSemAcento = u\"\".join([c for c in nfkd if not unicodedata.combining(c)])\n",
    "\n",
    "    # Usa expressão regular para retornar a palavra apenas com números, letras e espaço\n",
    "    return re.sub('[^a-zA-Z0-9 \\\\\\]', '', palavraSemAcento)"
   ]
  },
  {
   "cell_type": "code",
   "execution_count": null,
   "metadata": {},
   "outputs": [],
   "source": [
    "#driver = webdriver.Firefox(executable_path='C:/Windows/System32/drivers/DriverData/geckodriver.exe')\n",
    "#dados_teoralcool=[] \n",
    "\n",
    "#for i in dados_sku:\n",
    "    #prods_url = f'https://www.wine.com.br/vinhos/champagne-montaudon-brut/prod3170.html'\n",
    "    #print(f'Raspando pagina {i}')"
   ]
  },
  {
   "cell_type": "code",
   "execution_count": 61,
   "metadata": {},
   "outputs": [
    {
     "name": "stdout",
     "output_type": "stream",
     "text": [
      "Raspando pagina 1\n",
      "Raspando pagina 2\n",
      "Raspando pagina 3\n",
      "Raspando pagina 4\n",
      "Raspando pagina 5\n",
      "Raspando pagina 6\n",
      "Raspando pagina 7\n",
      "Raspando pagina 8\n",
      "Raspando pagina 9\n",
      "Raspando pagina 10\n",
      "Raspando pagina 11\n",
      "Raspando pagina 12\n",
      "Raspando pagina 13\n",
      "Raspando pagina 14\n",
      "Raspando pagina 15\n",
      "Raspando pagina 16\n",
      "Raspando pagina 17\n",
      "Raspando pagina 18\n",
      "Raspando pagina 19\n",
      "Raspando pagina 20\n",
      "Raspando pagina 21\n",
      "Raspando pagina 22\n",
      "Raspando pagina 23\n",
      "Raspando pagina 24\n",
      "Raspando pagina 25\n",
      "Raspando pagina 26\n",
      "Raspando pagina 27\n",
      "Raspando pagina 28\n",
      "Raspando pagina 29\n",
      "Raspando pagina 30\n",
      "Raspando pagina 31\n",
      "Raspando pagina 32\n",
      "Raspando pagina 33\n",
      "Raspando pagina 34\n",
      "Raspando pagina 35\n",
      "Raspando pagina 36\n",
      "Raspando pagina 37\n",
      "Raspando pagina 38\n",
      "Raspando pagina 39\n",
      "Raspando pagina 40\n",
      "Raspando pagina 41\n",
      "Raspando pagina 42\n",
      "Raspando pagina 43\n",
      "Raspando pagina 44\n",
      "Raspando pagina 45\n",
      "Raspando pagina 46\n",
      "Raspando pagina 47\n",
      "Raspando pagina 48\n",
      "Raspando pagina 49\n",
      "Raspando pagina 50\n",
      "Raspando pagina 51\n",
      "Raspando pagina 52\n",
      "Raspando pagina 53\n",
      "Raspando pagina 54\n",
      "Raspando pagina 55\n",
      "Raspando pagina 56\n",
      "Raspando pagina 57\n",
      "Raspando pagina 58\n",
      "Raspando pagina 59\n",
      "Raspando pagina 60\n",
      "Raspando pagina 61\n",
      "Raspando pagina 62\n",
      "Raspando pagina 63\n",
      "Raspando pagina 64\n",
      "Raspando pagina 65\n",
      "Raspando pagina 66\n",
      "Raspando pagina 67\n",
      "Raspando pagina 68\n",
      "Raspando pagina 69\n",
      "Raspando pagina 70\n",
      "Raspando pagina 71\n",
      "Raspando pagina 72\n",
      "Raspando pagina 73\n",
      "Raspando pagina 74\n",
      "Raspando pagina 75\n",
      "Raspando pagina 76\n",
      "Raspando pagina 77\n",
      "Raspando pagina 78\n",
      "Raspando pagina 79\n",
      "Raspando pagina 80\n",
      "Raspando pagina 81\n",
      "Raspando pagina 82\n",
      "Raspando pagina 83\n"
     ]
    }
   ],
   "source": [
    "#Sku\n",
    "driver = webdriver.Firefox(executable_path='C:/Windows/System32/drivers/DriverData/geckodriver.exe')\n",
    "dados_sku=[]\n",
    "\n",
    "for i in range(1,84):\n",
    "    PAGE = f'https://www.wine.com.br/vinhos/cVINHOS-p{i}.html'\n",
    "    print(f'Raspando pagina {i}')\n",
    "\n",
    "    driver.get(PAGE)\n",
    "    resultado = driver.find_elements_by_xpath(\".//*[@class='ProductDisplay-content']//*[@class='js-productClick']\")\n",
    "    for result in resultado:\n",
    "        sku = result.get_attribute('data-product-sku')\n",
    "        dados_sku.append(sku)"
   ]
  },
  {
   "cell_type": "code",
   "execution_count": 64,
   "metadata": {},
   "outputs": [],
   "source": [
    "\n",
    "vinicola = []\n",
    "for i in dados_sku[0:3]:\n",
    "    prods_url = f'https://www.wine.com.br/vinhos/champagne-montaudon-brut/prod{i}.html'\n",
    "    resultado = requests.get(prods_url)\n",
    "    bs = BeautifulSoup(resultado.content, 'html.parser')\n",
    "    html_data = bs.find_all('div', {'class': 'Right'})\n",
    "\n",
    "    dados = [elem.dd.text for elem in html_data]\n",
    "    colunas = [elem.dt.text for elem in html_data]\n",
    "\n",
    "    base1 = []\n",
    "    for i,j in zip(dados,colunas):\n",
    "        base = {j:i}\n",
    "        base1.append(base)  # apender o base com idexação"
   ]
  },
  {
   "cell_type": "code",
   "execution_count": 65,
   "metadata": {},
   "outputs": [
    {
     "data": {
      "text/plain": [
       "[{'Tinto': 'Cabernet Sauvignon'},\n",
       " {'Argentina': 'Mendoza'},\n",
       " {'Vinícola': 'Terrazas de los Andes'},\n",
       " {'Teor Alcoólico': '14.50% ABV'},\n",
       " {'Amadurecimento': '50% do vinho passou de 3 a 4 meses em barricas de carvalho francês e americano.'},\n",
       " {'Safra': '2018'},\n",
       " {'Classificação': 'Seco'},\n",
       " {'Visual': 'Rubi'},\n",
       " {'Olfativo': 'Frutas vermelhas, frutas negras, especiarias, herbáceo'},\n",
       " {'Gustativo': 'Corpo de leve para médio, taninos macios, boa acidez, final agradável'},\n",
       " {'Temperatura de serviço': '15 °C'},\n",
       " {'Potencial de guarda': '4 anos'}]"
      ]
     },
     "execution_count": 65,
     "metadata": {},
     "output_type": "execute_result"
    }
   ],
   "source": [
    "base1"
   ]
  },
  {
   "cell_type": "code",
   "execution_count": 27,
   "metadata": {},
   "outputs": [],
   "source": [
    "driver = webdriver.Firefox(executable_path='C:/Windows/System32/drivers/DriverData/geckodriver.exe')\n",
    "dados_test=[] \n",
    "resultado = driver.find_elements_by_xpath(\".//*[@class='Right']\")\n",
    "for result in resultado:\n",
    "    data = result\n",
    "    print(data)\n",
    "quit_driver(driver)\n"
   ]
  },
  {
   "cell_type": "code",
   "execution_count": null,
   "metadata": {},
   "outputs": [],
   "source": []
  }
 ],
 "metadata": {
  "file_extension": ".py",
  "kernelspec": {
   "display_name": "Python 3.7.3 64-bit ('base': conda)",
   "language": "python",
   "name": "python37364bitbaseconda99f9a39aef684decb425916e11f69f29"
  },
  "language_info": {
   "codemirror_mode": {
    "name": "ipython",
    "version": 3
   },
   "file_extension": ".py",
   "mimetype": "text/x-python",
   "name": "python",
   "nbconvert_exporter": "python",
   "pygments_lexer": "ipython3",
   "version": "3.7.3"
  },
  "mimetype": "text/x-python",
  "name": "python",
  "npconvert_exporter": "python",
  "pygments_lexer": "ipython3",
  "version": 3
 },
 "nbformat": 4,
 "nbformat_minor": 2
}
