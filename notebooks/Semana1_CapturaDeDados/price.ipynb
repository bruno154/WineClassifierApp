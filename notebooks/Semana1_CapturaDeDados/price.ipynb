{
 "cells": [
  {
   "cell_type": "code",
   "execution_count": 1,
   "metadata": {},
   "outputs": [],
   "source": [
    "import requests\n",
    "import numpy as np\n",
    "import pandas as pd\n",
    "from bs4 import BeautifulSoup\n",
    "from src.databases import Postgresql"
   ]
  },
  {
   "cell_type": "markdown",
   "metadata": {},
   "source": [
    "# Criando lista de skus e urls"
   ]
  },
  {
   "cell_type": "code",
   "execution_count": 2,
   "metadata": {},
   "outputs": [
    {
     "name": "stdout",
     "output_type": "stream",
     "text": [
      "Raspando pagina 10\n",
      "Raspando pagina 20\n",
      "Raspando pagina 30\n",
      "Raspando pagina 40\n",
      "Raspando pagina 50\n",
      "Raspando pagina 60\n",
      "Raspando pagina 70\n",
      "Raspando pagina 80\n"
     ]
    }
   ],
   "source": [
    "#Sku\n",
    "lst_sku=[]\n",
    "for i in range(1,84):\n",
    "    PAGE = f'https://www.wine.com.br/vinhos/cVINHOS-p{i}.html'\n",
    "    if i % 10 == 0:\n",
    "        print(f'Raspando pagina {i}')\n",
    "\n",
    "    resultado = requests.get(PAGE)\n",
    "    bs = BeautifulSoup(resultado.content, 'html.parser')\n",
    "    html_data = bs.find_all('div', {'class': 'ProductDisplay-name'})\n",
    "    sku = np.array([elem.a['data-product-sku'] for elem in html_data])\n",
    "    \n",
    "    for elem in html_data:\n",
    "        lst_sku.append(elem.a['data-product-sku'])"
   ]
  },
  {
   "cell_type": "code",
   "execution_count": 3,
   "metadata": {},
   "outputs": [],
   "source": [
    "lista = []\n",
    "lista_vinhos = []\n",
    "\n",
    "for i in range(1,84):\n",
    "\n",
    "    r = requests.get(f'https://www.wine.com.br/browse.ep?cID=100851&exibirEsgotados=false&pn={i}&listagem=horizontal&sorter=featuredProducts-desc&filters=cVINHOS')\n",
    "    soup = BeautifulSoup(r.content,'html.parser')\n",
    "    container = soup.find_all('div',{'class':'ProductDisplay-name'})\n",
    "    for col in container: # contém todos os vinhos\n",
    "        for art in col.find_all('a',href=True): #vinhos em cada coluna\n",
    "            lista = 'https://www.wine.com.br{}'.format(art['href'])\n",
    "            lista_vinhos.append(lista)"
   ]
  },
  {
   "cell_type": "code",
   "execution_count": 4,
   "metadata": {},
   "outputs": [
    {
     "data": {
      "text/plain": [
       "['https://www.wine.com.br/vinhos/maison-le-star-rose-on-ice/prod18479.html',\n",
       " 'https://www.wine.com.br/vinhos/champagne-montaudon-brut/prod3170.html',\n",
       " 'https://www.wine.com.br/vinhos/ropiteau-pinot-noir-2017/prod22807.html']"
      ]
     },
     "execution_count": 4,
     "metadata": {},
     "output_type": "execute_result"
    }
   ],
   "source": [
    "lista_vinhos[0:3]"
   ]
  },
  {
   "cell_type": "markdown",
   "metadata": {},
   "source": [
    "# Extraindo Variáveis"
   ]
  },
  {
   "cell_type": "code",
   "execution_count": 5,
   "metadata": {},
   "outputs": [],
   "source": [
    "price_Socio = []\n",
    "price_nonSocio = []\n",
    "for i, j in enumerate(lista_vinhos):\n",
    "    prods_url = j\n",
    "    resultado = requests.get(prods_url)\n",
    "    bs = BeautifulSoup(resultado.content, 'html.parser')\n",
    "    html_data_price = bs.find_all('div',{'class':'ProductSummary-club'})\n",
    "    \n",
    "    for elem in html_data_price:\n",
    "        for dado in elem:\n",
    "            if dado.string == 'Sócio:':\n",
    "                data = elem.find('span',{'class':'Price-raw'}).string\n",
    "                price_Socio.append({'sku':lst_sku[i],'price_Socio':data})\n",
    "            elif dado.string == 'Não Sócio:':\n",
    "                data = elem.find('span',{'class':'Price-raw'}).string\n",
    "                price_nonSocio.append({'sku':lst_sku[i],'price_nonSocio':data})   "
   ]
  },
  {
   "cell_type": "code",
   "execution_count": 6,
   "metadata": {},
   "outputs": [
    {
     "data": {
      "text/html": [
       "<div>\n",
       "<style scoped>\n",
       "    .dataframe tbody tr th:only-of-type {\n",
       "        vertical-align: middle;\n",
       "    }\n",
       "\n",
       "    .dataframe tbody tr th {\n",
       "        vertical-align: top;\n",
       "    }\n",
       "\n",
       "    .dataframe thead th {\n",
       "        text-align: right;\n",
       "    }\n",
       "</style>\n",
       "<table border=\"1\" class=\"dataframe\">\n",
       "  <thead>\n",
       "    <tr style=\"text-align: right;\">\n",
       "      <th></th>\n",
       "      <th>price_Socio</th>\n",
       "    </tr>\n",
       "    <tr>\n",
       "      <th>sku</th>\n",
       "      <th></th>\n",
       "    </tr>\n",
       "  </thead>\n",
       "  <tbody>\n",
       "    <tr>\n",
       "      <th>18479</th>\n",
       "      <td>64.90</td>\n",
       "    </tr>\n",
       "    <tr>\n",
       "      <th>3170</th>\n",
       "      <td>276.90</td>\n",
       "    </tr>\n",
       "    <tr>\n",
       "      <th>22807</th>\n",
       "      <td>186.07</td>\n",
       "    </tr>\n",
       "    <tr>\n",
       "      <th>22698</th>\n",
       "      <td>554.90</td>\n",
       "    </tr>\n",
       "    <tr>\n",
       "      <th>21768</th>\n",
       "      <td>417.90</td>\n",
       "    </tr>\n",
       "  </tbody>\n",
       "</table>\n",
       "</div>"
      ],
      "text/plain": [
       "      price_Socio\n",
       "sku              \n",
       "18479       64.90\n",
       "3170       276.90\n",
       "22807      186.07\n",
       "22698      554.90\n",
       "21768      417.90"
      ]
     },
     "execution_count": 6,
     "metadata": {},
     "output_type": "execute_result"
    }
   ],
   "source": [
    "price_Socio = pd.DataFrame(price_Socio).set_index('sku')\n",
    "price_Socio.head()"
   ]
  },
  {
   "cell_type": "code",
   "execution_count": 7,
   "metadata": {},
   "outputs": [
    {
     "data": {
      "text/html": [
       "<div>\n",
       "<style scoped>\n",
       "    .dataframe tbody tr th:only-of-type {\n",
       "        vertical-align: middle;\n",
       "    }\n",
       "\n",
       "    .dataframe tbody tr th {\n",
       "        vertical-align: top;\n",
       "    }\n",
       "\n",
       "    .dataframe thead th {\n",
       "        text-align: right;\n",
       "    }\n",
       "</style>\n",
       "<table border=\"1\" class=\"dataframe\">\n",
       "  <thead>\n",
       "    <tr style=\"text-align: right;\">\n",
       "      <th></th>\n",
       "      <th>price_nonSocio</th>\n",
       "    </tr>\n",
       "    <tr>\n",
       "      <th>sku</th>\n",
       "      <th></th>\n",
       "    </tr>\n",
       "  </thead>\n",
       "  <tbody>\n",
       "    <tr>\n",
       "      <th>18479</th>\n",
       "      <td>76.36</td>\n",
       "    </tr>\n",
       "    <tr>\n",
       "      <th>3170</th>\n",
       "      <td>325.77</td>\n",
       "    </tr>\n",
       "    <tr>\n",
       "      <th>22807</th>\n",
       "      <td>218.90</td>\n",
       "    </tr>\n",
       "    <tr>\n",
       "      <th>22698</th>\n",
       "      <td>652.83</td>\n",
       "    </tr>\n",
       "    <tr>\n",
       "      <th>21768</th>\n",
       "      <td>491.65</td>\n",
       "    </tr>\n",
       "  </tbody>\n",
       "</table>\n",
       "</div>"
      ],
      "text/plain": [
       "      price_nonSocio\n",
       "sku                 \n",
       "18479          76.36\n",
       "3170          325.77\n",
       "22807         218.90\n",
       "22698         652.83\n",
       "21768         491.65"
      ]
     },
     "execution_count": 7,
     "metadata": {},
     "output_type": "execute_result"
    }
   ],
   "source": [
    "price_nonSocio = pd.DataFrame(price_nonSocio).set_index('sku')\n",
    "price_nonSocio.head()"
   ]
  },
  {
   "cell_type": "code",
   "execution_count": 8,
   "metadata": {},
   "outputs": [],
   "source": [
    "df = price_Socio.join([price_nonSocio], how = 'inner')\n",
    "df =df.reset_index()"
   ]
  },
  {
   "cell_type": "code",
   "execution_count": 9,
   "metadata": {},
   "outputs": [
    {
     "name": "stdout",
     "output_type": "stream",
     "text": [
      "Tabela criada no postgresql com sucesso \n",
      "Conexão com Postgresql fechada\n"
     ]
    }
   ],
   "source": [
    "query = \"\"\" CREATE TABLE pricev1 ( sku TEXT,\n",
    "                                 price_Socio TEXT,\n",
    "                                 price_nonSocio TEXT) \"\"\"\n",
    "\n",
    "\n",
    "\n",
    "bd = Postgresql()\n",
    "bd.create_table(query=query,user='postgres' , password='bruno22#' , host= 'localhost', port= '5432', database = 'brunods')\n",
    "bd.insert_data(df = df, tabela = ' pricev1',user='postgres' , password='bruno22#' , host= 'localhost', port= '5432', database = 'brunods')"
   ]
  },
  {
   "cell_type": "code",
   "execution_count": null,
   "metadata": {},
   "outputs": [],
   "source": []
  }
 ],
 "metadata": {
  "kernelspec": {
   "display_name": "Python 3.8.2 64-bit ('venv-ds-38': conda)",
   "language": "python",
   "name": "python38264bitvenvds38conda3f45df97c22b4399879b2f46054e6fe7"
  },
  "language_info": {
   "codemirror_mode": {
    "name": "ipython",
    "version": 3
   },
   "file_extension": ".py",
   "mimetype": "text/x-python",
   "name": "python",
   "nbconvert_exporter": "python",
   "pygments_lexer": "ipython3",
   "version": "3.8.2"
  }
 },
 "nbformat": 4,
 "nbformat_minor": 4
}
